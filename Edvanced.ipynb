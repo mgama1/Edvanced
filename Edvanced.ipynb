{
 "cells": [
  {
   "cell_type": "code",
   "execution_count": null,
   "id": "49a7ab79-d990-4cf7-9b91-1e1a438d1721",
   "metadata": {},
   "outputs": [],
   "source": []
  },
  {
   "cell_type": "code",
   "execution_count": null,
   "id": "618e3e3b-622c-4a6a-b2ac-cf5a2088bf17",
   "metadata": {},
   "outputs": [],
   "source": []
  },
  {
   "cell_type": "code",
   "execution_count": null,
   "id": "2002011e-603a-4ede-8679-ed46a26dc0ce",
   "metadata": {},
   "outputs": [],
   "source": []
  },
  {
   "cell_type": "code",
   "execution_count": 1,
   "id": "318a7bad-8b9b-4a29-946a-4e5b4177742a",
   "metadata": {},
   "outputs": [],
   "source": [
    "import numpy as np\n"
   ]
  },
  {
   "cell_type": "code",
   "execution_count": null,
   "id": "cdbb0271-b35b-4f39-b48c-eee5e109ea3f",
   "metadata": {},
   "outputs": [],
   "source": []
  },
  {
   "cell_type": "code",
   "execution_count": 19,
   "id": "de26c09f-e96d-4c8b-bd9c-a75316c9b4b7",
   "metadata": {},
   "outputs": [],
   "source": [
    "import cv2\n",
    "import numpy as np\n",
    "import matplotlib.pyplot as plt"
   ]
  },
  {
   "cell_type": "code",
   "execution_count": 3,
   "id": "13fa4544-d7be-4c34-a469-d14639de79f9",
   "metadata": {},
   "outputs": [],
   "source": [
    "import cv2\n",
    "import numpy as np\n",
    "from transformers import TrOCRProcessor, VisionEncoderDecoderModel\n",
    "from PIL import Image\n",
    "import torch\n",
    "from transformers.utils import logging\n",
    "logging.set_verbosity_info()\n"
   ]
  },
  {
   "cell_type": "code",
   "execution_count": null,
   "id": "cfadcb9c-c146-42c0-9b5d-94b508d0abce",
   "metadata": {},
   "outputs": [],
   "source": []
  },
  {
   "cell_type": "code",
   "execution_count": 4,
   "id": "fb247b10-f167-40e6-ac72-1726a86e2823",
   "metadata": {},
   "outputs": [
    {
     "name": "stderr",
     "output_type": "stream",
     "text": [
      "loading configuration file preprocessor_config.json from cache at C:\\Users\\mahmoud\\.cache\\huggingface\\hub\\models--microsoft--trocr-small-handwritten\\snapshots\\b4648cfa171985a6745f37ddd637e98c0da958ac\\preprocessor_config.json\n",
      "size should be a dictionary on of the following set of keys: ({'width', 'height'}, {'shortest_edge'}, {'longest_edge', 'shortest_edge'}, {'longest_edge'}, {'max_width', 'max_height'}), got 384. Converted to {'height': 384, 'width': 384}.\n",
      "crop_size should be a dictionary on of the following set of keys: ({'width', 'height'}, {'shortest_edge'}, {'longest_edge', 'shortest_edge'}, {'longest_edge'}, {'max_width', 'max_height'}), got 224. Converted to {'height': 224, 'width': 224}.\n",
      "Image processor DeiTImageProcessor {\n",
      "  \"crop_size\": {\n",
      "    \"height\": 224,\n",
      "    \"width\": 224\n",
      "  },\n",
      "  \"do_center_crop\": false,\n",
      "  \"do_normalize\": true,\n",
      "  \"do_rescale\": true,\n",
      "  \"do_resize\": true,\n",
      "  \"image_mean\": [\n",
      "    0.5,\n",
      "    0.5,\n",
      "    0.5\n",
      "  ],\n",
      "  \"image_processor_type\": \"DeiTImageProcessor\",\n",
      "  \"image_std\": [\n",
      "    0.5,\n",
      "    0.5,\n",
      "    0.5\n",
      "  ],\n",
      "  \"resample\": 3,\n",
      "  \"rescale_factor\": 0.00392156862745098,\n",
      "  \"size\": {\n",
      "    \"height\": 384,\n",
      "    \"width\": 384\n",
      "  }\n",
      "}\n",
      "\n",
      "loading file sentencepiece.bpe.model from cache at C:\\Users\\mahmoud\\.cache\\huggingface\\hub\\models--microsoft--trocr-small-handwritten\\snapshots\\b4648cfa171985a6745f37ddd637e98c0da958ac\\sentencepiece.bpe.model\n",
      "loading file added_tokens.json from cache at None\n",
      "loading file special_tokens_map.json from cache at C:\\Users\\mahmoud\\.cache\\huggingface\\hub\\models--microsoft--trocr-small-handwritten\\snapshots\\b4648cfa171985a6745f37ddd637e98c0da958ac\\special_tokens_map.json\n",
      "loading file tokenizer_config.json from cache at C:\\Users\\mahmoud\\.cache\\huggingface\\hub\\models--microsoft--trocr-small-handwritten\\snapshots\\b4648cfa171985a6745f37ddd637e98c0da958ac\\tokenizer_config.json\n",
      "loading file tokenizer.json from cache at None\n",
      "loading file chat_template.jinja from cache at None\n",
      "Processor TrOCRProcessor:\n",
      "- image_processor: DeiTImageProcessor {\n",
      "  \"crop_size\": {\n",
      "    \"height\": 224,\n",
      "    \"width\": 224\n",
      "  },\n",
      "  \"do_center_crop\": false,\n",
      "  \"do_normalize\": true,\n",
      "  \"do_rescale\": true,\n",
      "  \"do_resize\": true,\n",
      "  \"image_mean\": [\n",
      "    0.5,\n",
      "    0.5,\n",
      "    0.5\n",
      "  ],\n",
      "  \"image_processor_type\": \"DeiTImageProcessor\",\n",
      "  \"image_std\": [\n",
      "    0.5,\n",
      "    0.5,\n",
      "    0.5\n",
      "  ],\n",
      "  \"resample\": 3,\n",
      "  \"rescale_factor\": 0.00392156862745098,\n",
      "  \"size\": {\n",
      "    \"height\": 384,\n",
      "    \"width\": 384\n",
      "  }\n",
      "}\n",
      "\n",
      "- tokenizer: XLMRobertaTokenizer(name_or_path='microsoft/trocr-small-handwritten', vocab_size=64002, model_max_length=1000000000000000019884624838656, is_fast=False, padding_side='right', truncation_side='right', special_tokens={'bos_token': '<s>', 'eos_token': '</s>', 'unk_token': '<unk>', 'sep_token': '</s>', 'pad_token': '<pad>', 'cls_token': '<s>', 'mask_token': '<mask>'}, clean_up_tokenization_spaces=False, added_tokens_decoder={\n",
      "\t0: AddedToken(\"<s>\", rstrip=False, lstrip=False, single_word=False, normalized=False, special=True),\n",
      "\t1: AddedToken(\"<pad>\", rstrip=False, lstrip=False, single_word=False, normalized=False, special=True),\n",
      "\t2: AddedToken(\"</s>\", rstrip=False, lstrip=False, single_word=False, normalized=False, special=True),\n",
      "\t3: AddedToken(\"<unk>\", rstrip=False, lstrip=False, single_word=False, normalized=False, special=True),\n",
      "\t64001: AddedToken(\"<mask>\", rstrip=False, lstrip=True, single_word=False, normalized=True, special=True),\n",
      "}\n",
      ")\n",
      "\n",
      "{\n",
      "  \"processor_class\": \"TrOCRProcessor\"\n",
      "}\n",
      "\n",
      "loading configuration file config.json from cache at C:\\Users\\mahmoud\\.cache\\huggingface\\hub\\models--microsoft--trocr-small-handwritten\\snapshots\\b4648cfa171985a6745f37ddd637e98c0da958ac\\config.json\n",
      "Model config VisionEncoderDecoderConfig {\n",
      "  \"architectures\": [\n",
      "    \"VisionEncoderDecoderModel\"\n",
      "  ],\n",
      "  \"decoder\": {\n",
      "    \"activation_dropout\": 0.0,\n",
      "    \"activation_function\": \"relu\",\n",
      "    \"add_cross_attention\": true,\n",
      "    \"attention_dropout\": 0.0,\n",
      "    \"classifier_dropout\": 0.0,\n",
      "    \"cross_attention_hidden_size\": 384,\n",
      "    \"d_model\": 256,\n",
      "    \"decoder_attention_heads\": 8,\n",
      "    \"decoder_ffn_dim\": 1024,\n",
      "    \"decoder_layerdrop\": 0.0,\n",
      "    \"decoder_layers\": 6,\n",
      "    \"dropout\": 0.1,\n",
      "    \"init_std\": 0.02,\n",
      "    \"is_decoder\": true,\n",
      "    \"layernorm_embedding\": true,\n",
      "    \"max_position_embeddings\": 512,\n",
      "    \"model_type\": \"trocr\",\n",
      "    \"scale_embedding\": true,\n",
      "    \"tie_word_embeddings\": false,\n",
      "    \"use_cache\": false,\n",
      "    \"use_learned_position_embeddings\": true,\n",
      "    \"vocab_size\": 64044\n",
      "  },\n",
      "  \"encoder\": {\n",
      "    \"attention_probs_dropout_prob\": 0.0,\n",
      "    \"encoder_stride\": 16,\n",
      "    \"hidden_act\": \"gelu\",\n",
      "    \"hidden_dropout_prob\": 0.0,\n",
      "    \"hidden_size\": 384,\n",
      "    \"image_size\": 384,\n",
      "    \"initializer_range\": 0.02,\n",
      "    \"intermediate_size\": 1536,\n",
      "    \"layer_norm_eps\": 1e-12,\n",
      "    \"model_type\": \"deit\",\n",
      "    \"num_attention_heads\": 6,\n",
      "    \"num_channels\": 3,\n",
      "    \"num_hidden_layers\": 12,\n",
      "    \"patch_size\": 16,\n",
      "    \"pooler_act\": \"tanh\",\n",
      "    \"pooler_output_size\": 384,\n",
      "    \"qkv_bias\": true\n",
      "  },\n",
      "  \"eos_token_id\": 2,\n",
      "  \"is_encoder_decoder\": true,\n",
      "  \"model_type\": \"vision-encoder-decoder\",\n",
      "  \"tie_word_embeddings\": false,\n",
      "  \"torch_dtype\": \"float32\",\n",
      "  \"transformers_version\": \"4.51.3\"\n",
      "}\n",
      "\n",
      "loading weights file pytorch_model.bin from cache at C:\\Users\\mahmoud\\.cache\\huggingface\\hub\\models--microsoft--trocr-small-handwritten\\snapshots\\b4648cfa171985a6745f37ddd637e98c0da958ac\\pytorch_model.bin\n",
      "Generate config GenerationConfig {\n",
      "  \"eos_token_id\": 2\n",
      "}\n",
      "\n",
      "Attempting to create safetensors variant\n",
      "Safetensors PR exists\n",
      "Instantiating DeiTModel model under default dtype torch.float32.\n",
      "Instantiating TrOCRForCausalLM model under default dtype torch.float32.\n",
      "Generate config GenerationConfig {\n",
      "  \"bos_token_id\": 0,\n",
      "  \"decoder_start_token_id\": 2,\n",
      "  \"eos_token_id\": 2,\n",
      "  \"pad_token_id\": 1,\n",
      "  \"use_cache\": false\n",
      "}\n",
      "\n",
      "Config of the encoder: <class 'transformers.models.deit.modeling_deit.DeiTModel'> is overwritten by shared encoder config: DeiTConfig {\n",
      "  \"attention_probs_dropout_prob\": 0.0,\n",
      "  \"encoder_stride\": 16,\n",
      "  \"hidden_act\": \"gelu\",\n",
      "  \"hidden_dropout_prob\": 0.0,\n",
      "  \"hidden_size\": 384,\n",
      "  \"image_size\": 384,\n",
      "  \"initializer_range\": 0.02,\n",
      "  \"intermediate_size\": 1536,\n",
      "  \"layer_norm_eps\": 1e-12,\n",
      "  \"model_type\": \"deit\",\n",
      "  \"num_attention_heads\": 6,\n",
      "  \"num_channels\": 3,\n",
      "  \"num_hidden_layers\": 12,\n",
      "  \"patch_size\": 16,\n",
      "  \"pooler_act\": \"tanh\",\n",
      "  \"pooler_output_size\": 384,\n",
      "  \"qkv_bias\": true,\n",
      "  \"torch_dtype\": \"float32\",\n",
      "  \"transformers_version\": \"4.51.3\"\n",
      "}\n",
      "\n",
      "Config of the decoder: <class 'transformers.models.trocr.modeling_trocr.TrOCRForCausalLM'> is overwritten by shared decoder config: TrOCRConfig {\n",
      "  \"activation_dropout\": 0.0,\n",
      "  \"activation_function\": \"relu\",\n",
      "  \"add_cross_attention\": true,\n",
      "  \"attention_dropout\": 0.0,\n",
      "  \"bos_token_id\": 0,\n",
      "  \"classifier_dropout\": 0.0,\n",
      "  \"cross_attention_hidden_size\": 384,\n",
      "  \"d_model\": 256,\n",
      "  \"decoder_attention_heads\": 8,\n",
      "  \"decoder_ffn_dim\": 1024,\n",
      "  \"decoder_layerdrop\": 0.0,\n",
      "  \"decoder_layers\": 6,\n",
      "  \"decoder_start_token_id\": 2,\n",
      "  \"dropout\": 0.1,\n",
      "  \"eos_token_id\": 2,\n",
      "  \"init_std\": 0.02,\n",
      "  \"is_decoder\": true,\n",
      "  \"layernorm_embedding\": true,\n",
      "  \"max_position_embeddings\": 512,\n",
      "  \"model_type\": \"trocr\",\n",
      "  \"pad_token_id\": 1,\n",
      "  \"scale_embedding\": true,\n",
      "  \"tie_word_embeddings\": false,\n",
      "  \"torch_dtype\": \"float32\",\n",
      "  \"transformers_version\": \"4.51.3\",\n",
      "  \"use_cache\": false,\n",
      "  \"use_learned_position_embeddings\": true,\n",
      "  \"vocab_size\": 64044\n",
      "}\n",
      "\n",
      "All model checkpoint weights were used when initializing VisionEncoderDecoderModel.\n",
      "\n",
      "Some weights of VisionEncoderDecoderModel were not initialized from the model checkpoint at microsoft/trocr-small-handwritten and are newly initialized: ['encoder.pooler.dense.bias', 'encoder.pooler.dense.weight']\n",
      "You should probably TRAIN this model on a down-stream task to be able to use it for predictions and inference.\n",
      "loading configuration file generation_config.json from cache at C:\\Users\\mahmoud\\.cache\\huggingface\\hub\\models--microsoft--trocr-small-handwritten\\snapshots\\b4648cfa171985a6745f37ddd637e98c0da958ac\\generation_config.json\n",
      "Generate config GenerationConfig {\n",
      "  \"bos_token_id\": 0,\n",
      "  \"decoder_start_token_id\": 2,\n",
      "  \"eos_token_id\": 2,\n",
      "  \"pad_token_id\": 1,\n",
      "  \"use_cache\": false\n",
      "}\n",
      "\n"
     ]
    }
   ],
   "source": [
    "# Load model & processor\n",
    "#use base instead of small if bad accuracy irl\n",
    "processor = TrOCRProcessor.from_pretrained('microsoft/trocr-small-handwritten',use_fast=False)\n",
    "model = VisionEncoderDecoderModel.from_pretrained('microsoft/trocr-small-handwritten')\n"
   ]
  },
  {
   "cell_type": "code",
   "execution_count": null,
   "id": "fb97ce73-07ab-4fc4-9f51-0436b06561aa",
   "metadata": {},
   "outputs": [],
   "source": []
  },
  {
   "cell_type": "code",
   "execution_count": 103,
   "id": "d8f0f983-1922-4d78-b0d8-323d907e5ed3",
   "metadata": {},
   "outputs": [],
   "source": [
    "\n",
    "class BubbleSheetProcessor:\n",
    "    def __init__(self, image_path):\n",
    "        self.image_path = image_path\n",
    "        self.nc = None\n",
    "        self.row_threshold=10\n",
    "        self.image = None\n",
    "        self.gray = None\n",
    "        self.warped = None\n",
    "        self.cropped = None\n",
    "        self.thresh = None\n",
    "        self.bubble_contours = None\n",
    "        self.answer_matrix = None\n",
    "        self.student_id=None\n",
    "        self.bubbles_area_x, self.bubbles_area_y, self.bubbles_area_w, self.bubbles_area_h=None,None,None,None\n",
    "        self.marker_area=None\n",
    "\n",
    "    def load_image(self):\n",
    "        self.image = cv2.imread(self.image_path)\n",
    "        self.gray = cv2.cvtColor(self.image, cv2.COLOR_BGR2GRAY)\n",
    "\n",
    "    def get_id_corner_map(self):\n",
    "        aruco_dict = cv2.aruco.getPredefinedDictionary(cv2.aruco.DICT_4X4_100)\n",
    "        parameters = cv2.aruco.DetectorParameters()\n",
    "        detector = cv2.aruco.ArucoDetector(aruco_dict, parameters)\n",
    "\n",
    "        corners, ids, _ = detector.detectMarkers(self.gray)\n",
    "        if ids is None or len(ids) < 4:\n",
    "            raise ValueError(\"Not all 4 ArUco markers were detected.\")\n",
    "\n",
    "        id_corner_map = {id[0]: corner for id, corner in zip(ids, corners)}\n",
    "\n",
    "        if 48 in id_corner_map:\n",
    "            self.nc = 5\n",
    "        elif 49 in id_corner_map:\n",
    "            self.nc = 4\n",
    "        else:\n",
    "            raise ValueError(\"Required ArUco marker not found.\")\n",
    "        #give the area of a circle with diameter equals to the edge of a marker\n",
    "        marker_arr=id_corner_map[30]\n",
    "        self.marker_area=np.pi*(int(abs(marker_arr[0][1][0]-marker_arr[0][0][0]))/2)**2\n",
    "        return id_corner_map\n",
    "\n",
    "    def get_center(self, corner):\n",
    "        return corner[0].mean(axis=0)\n",
    "\n",
    "    def get_centroid(self, array):\n",
    "        return np.array(array).mean(axis=0)\n",
    "\n",
    "    def get_roi(self, id_corner_map):\n",
    "        if 48 in id_corner_map:\n",
    "            ordered_ids = [30, 10, 48, 34]  # TL, TR, BR, BL\n",
    "        else:  # 49 is guaranteed if 48 isn't\n",
    "            ordered_ids = [30, 10, 49, 34]\n",
    "\n",
    "        ordered_pts = [self.get_center(id_corner_map[id]) for id in ordered_ids]\n",
    "        return np.array(ordered_pts, dtype='float32')\n",
    "\n",
    "    def get_warped_image(self, src_pts):\n",
    "        width, height = int(self.image.shape[0] * 0.764), self.image.shape[0]\n",
    "        dst_pts = np.array([\n",
    "            [0, 0],\n",
    "            [width - 1, 0],\n",
    "            [width - 1, height - 1],\n",
    "            [0, height - 1]\n",
    "        ], dtype='float32')\n",
    "\n",
    "        M = cv2.getPerspectiveTransform(src_pts, dst_pts)\n",
    "        return cv2.warpPerspective(self.image, M, (width, height))\n",
    "\n",
    "    def get_largest_contour(self, image, drawContour=False):\n",
    "        gray = cv2.cvtColor(image, cv2.COLOR_BGR2GRAY)\n",
    "        thresh = cv2.adaptiveThreshold(\n",
    "            gray, 255, \n",
    "            cv2.ADAPTIVE_THRESH_GAUSSIAN_C, \n",
    "            cv2.THRESH_BINARY_INV, \n",
    "            25, 4\n",
    "        )\n",
    "        contours, _ = cv2.findContours(thresh, cv2.RETR_EXTERNAL, cv2.CHAIN_APPROX_NONE)\n",
    "        largest_contour = max(contours, key=cv2.contourArea)\n",
    "\n",
    "        if drawContour:\n",
    "            cv2.drawContours(image, largest_contour, -1, (0, 255, 0), 3)\n",
    "            cv2.imshow('largest contour', image)\n",
    "            cv2.waitKey(0)\n",
    "            cv2.destroyAllWindows()\n",
    "\n",
    "        return largest_contour\n",
    "    \n",
    "    def warp_paper(self):\n",
    "        id_corner_map = self.get_id_corner_map()\n",
    "        roi = self.get_roi(id_corner_map)\n",
    "        self.warped = self.get_warped_image(roi)\n",
    "\n",
    "    def preprocess_cropped(self,debug=False):\n",
    "        self.bubbles_area_x, self.bubbles_area_y, self.bubbles_area_w, self.bubbles_area_h = cv2.boundingRect(self.get_largest_contour(self.warped))\n",
    "        self.cropped = self.warped[self.bubbles_area_y+10:self.bubbles_area_y+self.bubbles_area_h-10, \n",
    "                                    self.bubbles_area_x+10:self.bubbles_area_x+self.bubbles_area_w-10]\n",
    "        \n",
    "        cropped_gray = cv2.cvtColor(self.cropped, cv2.COLOR_BGR2GRAY)\n",
    "        blurred = cv2.GaussianBlur(cropped_gray, (3, 3), 0)\n",
    "\n",
    "        self.thresh = cv2.adaptiveThreshold(\n",
    "            blurred, 255, \n",
    "            cv2.ADAPTIVE_THRESH_GAUSSIAN_C, \n",
    "            cv2.THRESH_BINARY_INV, \n",
    "            57, 4\n",
    "        )\n",
    "        if debug==True:\n",
    "            print(\"self.thresh\")\n",
    "            plt.imshow(self.thresh,cmap='gray')\n",
    "\n",
    "    def extract_bubble_contours(self, debug=False):\n",
    "        contours, _ = cv2.findContours(self.thresh, cv2.RETR_EXTERNAL, cv2.CHAIN_APPROX_NONE)\n",
    "        bubble_contours = []\n",
    "        \n",
    "        # Filter bubble contours as before\n",
    "        for c in contours:\n",
    "            area = cv2.contourArea(c)\n",
    "            x, y, w, h = cv2.boundingRect(c)\n",
    "            aspect_ratio = w / float(h)\n",
    "        \n",
    "            if area > self.marker_area and 0.9 < aspect_ratio < 1.1:\n",
    "                bubble_contours.append(c)\n",
    "        \n",
    "        # First sort all bubbles by their y-coordinate (top to bottom)\n",
    "        bubble_contours.sort(key=lambda b: self.get_centroid(b)[0][1])\n",
    "        \n",
    "        # Group bubbles into rows based on y-coordinate proximity\n",
    "        if not bubble_contours:\n",
    "            return []  # no bubbles found\n",
    "        \n",
    "        rows = []\n",
    "        current_row = [bubble_contours[0]]\n",
    "        y_centroid = self.get_centroid(bubble_contours[0])[0][1]\n",
    "        \n",
    "        for b in bubble_contours[1:]:\n",
    "            current_y = self.get_centroid(b)[0][1]\n",
    "            # If y-coordinate is close enough to current row, add to same row\n",
    "            if abs(current_y - y_centroid) < self.row_threshold:  # adjust threshold as needed\n",
    "                current_row.append(b)\n",
    "            else:\n",
    "                # Sort current row by x-coordinate and add to rows\n",
    "                current_row.sort(key=lambda b: self.get_centroid(b)[0][0])\n",
    "                rows.append(current_row)\n",
    "                # Start new row\n",
    "                current_row = [b]\n",
    "                y_centroid = current_y\n",
    "        \n",
    "        # Add the last row\n",
    "        if current_row:\n",
    "            current_row.sort(key=lambda b: self.get_centroid(b)[0][0])\n",
    "            rows.append(current_row)\n",
    "        \n",
    "        # Flatten the rows back into a single list\n",
    "        sorted_bubbles = [bubble for row in rows for bubble in row]\n",
    "\n",
    "\n",
    "        if debug:\n",
    "            output = self.cropped.copy()\n",
    "            cv2.drawContours(output, bubble_contours, -1, (0, 255, 0), 2)\n",
    "            plt.imshow(output)\n",
    "\n",
    "        self.bubble_contours = sorted_bubbles\n",
    "\n",
    "    def get_filled_bubbles_matrix(self):\n",
    "        extracted = []\n",
    "\n",
    "        for c in self.bubble_contours:\n",
    "            mask = np.zeros(self.thresh.shape, dtype=\"uint8\")\n",
    "            cv2.drawContours(mask, [c], -1, 255, -1)\n",
    "            masked = cv2.bitwise_and(self.thresh, self.thresh, mask=mask)\n",
    "\n",
    "            total = cv2.countNonZero(mask)\n",
    "            filled = cv2.countNonZero(masked)\n",
    "            ratio = filled / total\n",
    "\n",
    "            extracted.append(1 if ratio > 0.5 else 0)\n",
    "\n",
    "        self.answer_matrix = np.array(extracted).reshape(-1, self.nc)\n",
    "    def detect_student_id(self,drawContours=False):\n",
    "        id_area=self.warped[0:self.bubbles_area_y, int(self.warped.shape[1]*.75):]\n",
    "        x, y, w, h = cv2.boundingRect(self.get_largest_contour(id_area))\n",
    "        \n",
    "        student_id_img=id_area[y+5:y+h-5, x+5:x+w-5]\n",
    "        \n",
    "        pixel_values = processor(images=student_id_img, return_tensors=\"pt\").pixel_values\n",
    "        # Run inference\n",
    "        generated_ids = model.generate(pixel_values,max_length=14,min_length=4,num_beams =2,early_stopping =True,repetition_penalty=.8)\n",
    "        student_id = processor.batch_decode(generated_ids, skip_special_tokens=True)[0]\n",
    "        self.student_id=re.sub(r'\\D', '', student_id)\n",
    "        if drawContours:\n",
    "            output = id_area.copy()\n",
    "            cv2.drawContours(output, self.get_largest_contour(id_area), -1, (0, 255, 0), 2)\n",
    "            output_resized = cv2.resize(output, (800, int(output.shape[0] * 800 / output.shape[1])))\n",
    "            cv2.imshow('Detected Bubbles', output_resized)\n",
    "            cv2.waitKey(0)\n",
    "            cv2.destroyAllWindows()\n",
    "\n",
    "        \n",
    "    \n",
    "    def run_pipeline(self):\n",
    "        self.load_image()\n",
    "        self.warp_paper()\n",
    "        self.preprocess_cropped()\n",
    "        self.extract_bubble_contours()\n",
    "        self.get_filled_bubbles_matrix()\n",
    "        self.detect_student_id()\n",
    "        return self.student_id, self.answer_matrix\n"
   ]
  },
  {
   "cell_type": "code",
   "execution_count": null,
   "id": "a8cbb806-f309-441f-9ff9-9e4b6287d07a",
   "metadata": {},
   "outputs": [],
   "source": []
  },
  {
   "cell_type": "code",
   "execution_count": null,
   "id": "06321332-82a0-44a8-9058-dbf183c6af9c",
   "metadata": {},
   "outputs": [],
   "source": []
  },
  {
   "cell_type": "code",
   "execution_count": null,
   "id": "df37519f-51f3-4ddc-9087-429f861a6b49",
   "metadata": {},
   "outputs": [],
   "source": []
  },
  {
   "cell_type": "code",
   "execution_count": 106,
   "id": "123195b8-f73d-4b46-aaeb-c77ec0cdc76b",
   "metadata": {},
   "outputs": [
    {
     "name": "stdout",
     "output_type": "stream",
     "text": [
      "('31415', array([[1, 0, 0, 0],\n",
      "       [0, 1, 0, 0],\n",
      "       [0, 0, 1, 0],\n",
      "       [0, 0, 0, 1],\n",
      "       [1, 0, 0, 0],\n",
      "       [0, 1, 0, 0],\n",
      "       [0, 0, 1, 0],\n",
      "       [0, 0, 0, 1],\n",
      "       [1, 0, 0, 0],\n",
      "       [0, 1, 0, 0],\n",
      "       [0, 0, 1, 0],\n",
      "       [0, 0, 0, 1],\n",
      "       [1, 0, 0, 0],\n",
      "       [0, 1, 0, 0],\n",
      "       [0, 0, 1, 0],\n",
      "       [0, 0, 0, 1],\n",
      "       [1, 0, 0, 0],\n",
      "       [0, 1, 0, 0],\n",
      "       [0, 0, 1, 0],\n",
      "       [0, 0, 0, 1],\n",
      "       [1, 0, 0, 0],\n",
      "       [0, 1, 0, 0],\n",
      "       [0, 0, 1, 0],\n",
      "       [0, 0, 0, 1],\n",
      "       [1, 0, 0, 0],\n",
      "       [0, 1, 0, 0],\n",
      "       [0, 0, 1, 0],\n",
      "       [0, 0, 0, 1],\n",
      "       [1, 0, 0, 0],\n",
      "       [0, 1, 0, 0],\n",
      "       [0, 0, 1, 0],\n",
      "       [0, 0, 0, 1],\n",
      "       [1, 0, 0, 0]]))\n",
      "1.292067527770996\n"
     ]
    }
   ],
   "source": [
    "import time\n",
    "s=time.time()\n",
    "sheet_processor=BubbleSheetProcessor('Downloads/model.jpg')\n",
    "print(sheet_processor.run_pipeline())\n",
    "print(time.time()-s)"
   ]
  },
  {
   "cell_type": "code",
   "execution_count": null,
   "id": "77fd2ad6-0045-405d-b64c-63d89a38de3b",
   "metadata": {},
   "outputs": [],
   "source": []
  },
  {
   "cell_type": "code",
   "execution_count": null,
   "id": "58293b0e-e535-45db-a35a-a74dfe99945f",
   "metadata": {},
   "outputs": [],
   "source": []
  },
  {
   "cell_type": "code",
   "execution_count": 107,
   "id": "0fe4ba6c-c608-4606-b025-49af7c14c9e7",
   "metadata": {},
   "outputs": [],
   "source": [
    "def get_results(model_answer_image, *students_answers_images):\n",
    "    processor=BubbleSheetProcessor(model_answer_image)\n",
    "    _,mam=processor.run_pipeline()\n",
    "    \n",
    "    for student_answer in students_answers_images:\n",
    "        processor=BubbleSheetProcessor(student_answer)\n",
    "        student_id,sam=processor.run_pipeline()\n",
    "        sam==mam\n",
    "        print(student_id,np.all(sam==mam,axis=1).sum())\n",
    "        \n",
    "    "
   ]
  },
  {
   "cell_type": "code",
   "execution_count": 109,
   "id": "275460ce-07c7-4a88-9ce7-6c9604a19b94",
   "metadata": {},
   "outputs": [
    {
     "name": "stdout",
     "output_type": "stream",
     "text": [
      "31415 33\n",
      "31415 33\n"
     ]
    }
   ],
   "source": [
    "get_results('Downloads/model.jpg','Downloads/model.jpg','Downloads/model.jpg')"
   ]
  },
  {
   "cell_type": "code",
   "execution_count": null,
   "id": "202597d1-05e4-404e-ae6d-2ac6cd5c0616",
   "metadata": {},
   "outputs": [],
   "source": []
  },
  {
   "cell_type": "code",
   "execution_count": null,
   "id": "d29b107f-c2d9-497d-bf09-3880303a6d77",
   "metadata": {},
   "outputs": [],
   "source": []
  },
  {
   "cell_type": "code",
   "execution_count": 631,
   "id": "05b195d5-7e47-4b7e-8d4d-7a2f1d303070",
   "metadata": {},
   "outputs": [],
   "source": []
  },
  {
   "cell_type": "code",
   "execution_count": null,
   "id": "b736c9d4-4d8b-43b1-b4d3-d0d538f77bb7",
   "metadata": {},
   "outputs": [],
   "source": []
  },
  {
   "cell_type": "code",
   "execution_count": null,
   "id": "2feddd60-a276-4d14-b749-bca407b44d8c",
   "metadata": {},
   "outputs": [],
   "source": []
  },
  {
   "cell_type": "code",
   "execution_count": null,
   "id": "803d28be-bfa5-4192-afbc-a3f173c2863d",
   "metadata": {},
   "outputs": [],
   "source": []
  },
  {
   "cell_type": "code",
   "execution_count": null,
   "id": "cfa5e78a-0dde-4006-bef6-5225b9781039",
   "metadata": {},
   "outputs": [],
   "source": []
  },
  {
   "cell_type": "code",
   "execution_count": null,
   "id": "62663673-564c-4202-b845-aab0dc83f8cf",
   "metadata": {},
   "outputs": [],
   "source": []
  },
  {
   "cell_type": "code",
   "execution_count": null,
   "id": "154af775-5139-4a01-a196-dac2073bb29f",
   "metadata": {},
   "outputs": [],
   "source": []
  },
  {
   "cell_type": "code",
   "execution_count": null,
   "id": "b3f9b9d3-f421-4171-b0e9-dae7bb9cab78",
   "metadata": {},
   "outputs": [],
   "source": []
  },
  {
   "cell_type": "code",
   "execution_count": null,
   "id": "b3c4a2ce-187e-4ee3-b3b9-d2fb0ac6d273",
   "metadata": {},
   "outputs": [],
   "source": []
  },
  {
   "cell_type": "code",
   "execution_count": null,
   "id": "ef598741-8e5a-4bf2-8918-6ffa5a6ee388",
   "metadata": {},
   "outputs": [],
   "source": []
  },
  {
   "cell_type": "code",
   "execution_count": 270,
   "id": "b472d5d8-633e-4a65-8b35-c31aad27e7fd",
   "metadata": {},
   "outputs": [],
   "source": [
    "import numpy as np\n",
    "import matplotlib.pyplot as plt\n",
    "import plotly.express as px\n",
    "import plotly.graph_objects as go\n",
    "from sklearn.decomposition import PCA\n",
    "import pandas as pd\n"
   ]
  },
  {
   "cell_type": "code",
   "execution_count": null,
   "id": "ab835bbc-147a-4f6a-9440-8a5c7abaf946",
   "metadata": {},
   "outputs": [],
   "source": []
  },
  {
   "cell_type": "code",
   "execution_count": 1867,
   "id": "fb317fc1-6cd3-4f7b-8844-c19aad0961e1",
   "metadata": {},
   "outputs": [],
   "source": [
    "\n",
    "\n",
    "# Helper function to generate a believable answer\n",
    "def generate_student_answer(model,num_questions, num_choices,accuracy=0.6):\n",
    "    answer = np.zeros_like(model)\n",
    "    for i in range(num_questions):\n",
    "        if np.random.rand() < accuracy:\n",
    "            correct_choice = np.argmax(model[i])\n",
    "        else:\n",
    "            # Wrong answer, choose randomly excluding the correct one\n",
    "            choices = list(set(range(num_choices)) - {np.argmax(model[i])})\n",
    "            correct_choice = np.random.choice(choices)\n",
    "        answer[i, correct_choice] = 1\n",
    "    return answer\n",
    "\n",
    "def simulate_answers(num_students,num_cheaters,num_questions,num_choices,student_mean_acc,cheater_mean_acc):\n",
    "    # Create model answer (the \"correct\" one)\n",
    "    model = np.zeros((num_questions, num_choices), dtype=int)\n",
    "    for i in range(num_questions):\n",
    "        model[i, i % num_choices] = 1\n",
    "\n",
    "    # Generate student accuracies using normal distribution\n",
    "    student_accuracies = np.clip(np.random.normal(student_mean_acc, 0.1, size=num_students), 0.3, 0.9)\n",
    "    # Generate regular student answers\n",
    "    students = [generate_student_answer(model,num_questions,num_choices, accuracy=acc) for acc in student_accuracies]\n",
    "    # Create cheater base with a higher mean accuracy\n",
    "    cheater_accuracy = np.clip(np.random.normal(cheater_mean_acc, 0.05), 0.65, 0.85)\n",
    "    cheater_base = generate_student_answer(model,num_questions,num_choices, accuracy=cheater_accuracy)\n",
    "    # Create n cheaters from the base with slight variations\n",
    "    cheaters = []\n",
    "    for i in range(num_cheaters):\n",
    "        cheater = cheater_base.copy()\n",
    "        # Introduce a small chance of changing a few answers for realism\n",
    "        for j in range(num_questions):\n",
    "            if np.random.rand() < 0.1:  # 10% chance to change\n",
    "                cheater[j] = np.zeros(num_choices)\n",
    "                cheater[j, np.random.randint(0, num_choices)] = 1\n",
    "        cheaters.append(cheater)\n",
    "    \n",
    "    # Combine all students and cheaters\n",
    "    students.extend(cheaters)\n",
    "\n",
    "    return model,students\n",
    "    \n",
    "model,students=simulate_answers(num_students=20,num_cheaters=2,num_questions=33,num_choices=4,student_mean_acc=.8,cheater_mean_acc=.8)\n",
    "\n",
    "\n",
    "\n"
   ]
  },
  {
   "cell_type": "code",
   "execution_count": 1868,
   "id": "5ab1b243-fb3d-4493-bae1-6751c8db2ff2",
   "metadata": {},
   "outputs": [
    {
     "name": "stdout",
     "output_type": "stream",
     "text": [
      "Students 20 and 21 have 7 identical wrong answers | p =0.0006530538027290644  statistically significant ✅\n",
      "Students 0 and 6 have 3 identical wrong answers | p =0.9949786577711071  statistically insignificant ❌\n",
      "Students 2 and 20 have 3 identical wrong answers | p =0.9949786577711071  statistically insignificant ❌\n",
      "Students 6 and 15 have 3 identical wrong answers | p =0.9949786577711071  statistically insignificant ❌\n",
      "Students 7 and 11 have 3 identical wrong answers | p =0.9949786577711071  statistically insignificant ❌\n"
     ]
    }
   ],
   "source": [
    "import numpy as np\n",
    "from typing import List, Dict, Tuple\n",
    "from scipy.special import comb\n",
    "\n",
    "def prob_matching_wrong_answers(k, m, n, c, accuracy,alpha=.01):\n",
    "    '''\n",
    "    calculates probability that at least there is one pair with k identical wrong answers \n",
    "    '''\n",
    "    p_0= round(((1-accuracy)**2)/(c-1),5)\n",
    "    # Calculate the binomial probability\n",
    "    binomial_prob = comb(n, k) * (p_0**k) * ((1-p_0)**(n-k))\n",
    "    # Calculate the final probability\n",
    "    p_value = 1 - (1 - binomial_prob)**comb(m, 2)\n",
    "    if p_value <alpha:\n",
    "        significance='statistically significant ✅'\n",
    "    else:\n",
    "        significance='statistically insignificant ❌'\n",
    "    return p_value,significance\n",
    "\n",
    "\n",
    "def count_same_wrong_answers_vectorized(\n",
    "    model: np.ndarray, \n",
    "    students: List[np.ndarray], \n",
    "    top_n: int = 5\n",
    ") -> List[Tuple[Tuple[int, int], int]]:\n",
    "    \"\"\"\n",
    "    Vectorized implementation to count same wrong answers between all student pairs.\n",
    "    \n",
    "    Args:\n",
    "        model: Correct answer matrix (num_questions × num_choices)\n",
    "        students: List of student answer matrices\n",
    "        top_n: Number of top pairs to return\n",
    "        \n",
    "    Returns:\n",
    "        List of tuples containing ((student_i, student_j), count) sorted by count in descending order\n",
    "    \"\"\"\n",
    "    # Convert model and student answers to choice indices (num_students × num_questions)\n",
    "    correct_choices = np.argmax(model, axis=1)  # (num_questions,)\n",
    "    student_choices = np.array([np.argmax(s, axis=1) for s in students])  # (num_students × num_questions)\n",
    "    \n",
    "    # Create mask of wrong answers for each student (num_students × num_questions)\n",
    "    wrong_mask = student_choices != correct_choices\n",
    "    \n",
    "    # Prepare for pairwise comparisons\n",
    "    n_students = len(students)\n",
    "    indices = np.triu_indices(n_students, k=1)  # Upper triangle indices excluding diagonal\n",
    "    \n",
    "    # Vectorized computation of same wrong answers\n",
    "    s1, s2 = indices\n",
    "    both_wrong = wrong_mask[s1] & wrong_mask[s2]  # Where both got it wrong\n",
    "    same_wrong = (student_choices[s1] == student_choices[s2]) & both_wrong\n",
    "    \n",
    "    # Count same wrong answers per pair\n",
    "    counts = np.sum(same_wrong, axis=1)\n",
    "    \n",
    "    # Create result pairs with counts\n",
    "    pairs = list(zip(zip(s1, s2), counts))\n",
    "    \n",
    "    # Sort by count descending and return top_n\n",
    "    top_pairs = sorted(pairs, key=lambda x: -x[1])[:top_n]\n",
    "    \n",
    "    return top_pairs\n",
    "\n",
    "scores = np.array([np.sum(np.all(student == model, axis=1)) for student in students])\n",
    "n_choices=students[0].shape[1]\n",
    "n_questions=students[0].shape[0]\n",
    "n_students=len(students)\n",
    "accuracy=np.median(scores)/n_questions\n",
    "# Get top 5 suspicious pairs\n",
    "top_pairs = count_same_wrong_answers_vectorized(model, students, top_n=5)\n",
    "for (i, j), count in top_pairs:\n",
    "    p,significance=prob_matching_wrong_answers(k=count, m=n_students, n=n_questions, c=n_choices, accuracy=accuracy,alpha=.001)\n",
    "    print(f\"Students {i} and {j} have {count} identical wrong answers | p ={p}  {significance}\")"
   ]
  },
  {
   "cell_type": "code",
   "execution_count": null,
   "id": "551e7d1e-8d03-473c-a928-822f61859dee",
   "metadata": {},
   "outputs": [],
   "source": []
  },
  {
   "cell_type": "code",
   "execution_count": null,
   "id": "060f772f-9654-4df5-9330-e697a3339d04",
   "metadata": {},
   "outputs": [],
   "source": [
    "\n",
    "\n"
   ]
  },
  {
   "cell_type": "code",
   "execution_count": null,
   "id": "9d5b4bc9-aa1f-4adc-84b2-26ec11f424d1",
   "metadata": {},
   "outputs": [],
   "source": []
  },
  {
   "cell_type": "code",
   "execution_count": null,
   "id": "a07efcbc-c51d-4d8b-8937-f3e6ad8ce32d",
   "metadata": {},
   "outputs": [],
   "source": []
  },
  {
   "cell_type": "code",
   "execution_count": null,
   "id": "a86dc478-307c-4074-bf3a-23985dfde0eb",
   "metadata": {},
   "outputs": [],
   "source": []
  },
  {
   "cell_type": "code",
   "execution_count": null,
   "id": "20aa13f6-72c4-4518-ad2c-96efd483f364",
   "metadata": {},
   "outputs": [],
   "source": []
  },
  {
   "cell_type": "code",
   "execution_count": null,
   "id": "fb783e63-8e9b-40f5-8a00-6f3136d61a55",
   "metadata": {},
   "outputs": [],
   "source": []
  },
  {
   "cell_type": "code",
   "execution_count": null,
   "id": "351968a3-d142-4363-adc1-48cd4391d716",
   "metadata": {},
   "outputs": [],
   "source": []
  },
  {
   "cell_type": "code",
   "execution_count": 1869,
   "id": "776b02ca-4767-4d4b-b293-719ccb5022ef",
   "metadata": {},
   "outputs": [
    {
     "data": {
      "application/vnd.plotly.v1+json": {
       "config": {
        "plotlyServerURL": "https://plot.ly"
       },
       "data": [
        {
         "customdata": [
          [
           29
          ],
          [
           25
          ],
          [
           27
          ],
          [
           28
          ],
          [
           29
          ],
          [
           29
          ],
          [
           20
          ],
          [
           24
          ],
          [
           21
          ],
          [
           24
          ],
          [
           25
          ],
          [
           24
          ],
          [
           21
          ],
          [
           27
          ],
          [
           32
          ],
          [
           19
          ],
          [
           25
          ],
          [
           26
          ],
          [
           27
          ],
          [
           27
          ],
          [
           25
          ],
          [
           23
          ]
         ],
         "hovertemplate": "<b>%{text}</b><br>Score: %{customdata[0]}<br>PC1: %{x:.2f}<br>PC2: %{y:.2f}<br>PC3: %{z:.2f}",
         "marker": {
          "color": [
           "gray",
           "gray",
           "gray",
           "gray",
           "gray",
           "gray",
           "gray",
           "gray",
           "gray",
           "gray",
           "gray",
           "gray",
           "gray",
           "gray",
           "gray",
           "gray",
           "gray",
           "gray",
           "gray",
           "gray",
           "blue",
           "blue"
          ],
          "opacity": 0.7,
          "size": 8
         },
         "mode": "markers",
         "text": [
          "Student 0",
          "Student 1",
          "Student 2",
          "Student 3",
          "Student 4",
          "Student 5",
          "Student 6",
          "Student 7",
          "Student 8",
          "Student 9",
          "Student 10",
          "Student 11",
          "Student 12",
          "Student 13",
          "Student 14",
          "Student 15",
          "Student 16",
          "Student 17",
          "Student 18",
          "Student 19",
          "Student 20",
          "Student 21"
         ],
         "type": "scatter3d",
         "x": [
          -0.8613283345172722,
          0.38432272421457736,
          1.3682123272822224,
          -0.2729088815882585,
          -0.6194401275523693,
          0.23763753704890705,
          -2.854969367824888,
          0.8266846917216849,
          0.8872989098168003,
          0.03694021900254483,
          0.12400725968220583,
          -0.7658714904560074,
          0.26253418889437097,
          -0.44060475843171415,
          -0.02395349162668779,
          -2.061097597630308,
          -0.6244542933723914,
          -0.8601131967424079,
          0.6958151638947571,
          -0.6134444984937611,
          2.4299219018374334,
          2.744811114840563
         ],
         "y": [
          1.1946095752809995,
          1.13390703168987,
          0.41669924483416937,
          0.2545848352822334,
          0.8910447410780666,
          -0.03304869144312459,
          1.2133433583132192,
          0.04731589420942396,
          -2.2073029120943084,
          -1.631143069551466,
          1.5512575414830936,
          -0.6190327183936117,
          -1.7727920243298096,
          0.18838282773631404,
          0.5768353873462175,
          -2.567592189544554,
          -1.421634835349976,
          0.5087210768759147,
          0.8557211511144812,
          1.2434575115367281,
          0.21586731145553434,
          -0.039201047529411844
         ],
         "z": [
          -0.6820610088899361,
          0.5744634127671967,
          -0.9392030383193781,
          -0.44695770808570284,
          -0.13595688194863306,
          0.011786053808095642,
          -2.01624953619613,
          1.630303334550879,
          -1.800585516788998,
          -0.11180902607646355,
          0.48234318493384853,
          1.8108764682227312,
          2.0488907917965853,
          0.5071581121960956,
          0.5436235157792525,
          -1.3089374384352455,
          0.9196870315819754,
          0.7717503513562411,
          0.6202063762326239,
          -0.0665881826875894,
          -1.5291418966030712,
          -0.8835983991943792
         ]
        }
       ],
       "layout": {
        "autosize": true,
        "font": {
         "size": 12
        },
        "margin": {
         "b": 0,
         "l": 0,
         "r": 0,
         "t": 40
        },
        "scene": {
         "aspectmode": "auto",
         "aspectratio": {
          "x": 1.2326227293297536,
          "y": 0.906640503654496,
          "z": 0.8948179989751557
         },
         "camera": {
          "center": {
           "x": 0,
           "y": 0,
           "z": 0
          },
          "eye": {
           "x": 0.7762324008871189,
           "y": 1.4215797364119664,
           "z": 1.43668866245819
          },
          "projection": {
           "type": "perspective"
          },
          "up": {
           "x": 0,
           "y": 0,
           "z": 1
          }
         },
         "xaxis": {
          "title": {
           "text": "PC1 (12.21%)"
          },
          "type": "linear"
         },
         "yaxis": {
          "title": {
           "text": "PC2 (11.05%)"
          },
          "type": "linear"
         },
         "zaxis": {
          "title": {
           "text": "PC3 (9.79%)"
          },
          "type": "linear"
         }
        },
        "showlegend": false,
        "template": {
         "data": {
          "bar": [
           {
            "error_x": {
             "color": "#2a3f5f"
            },
            "error_y": {
             "color": "#2a3f5f"
            },
            "marker": {
             "line": {
              "color": "#E5ECF6",
              "width": 0.5
             },
             "pattern": {
              "fillmode": "overlay",
              "size": 10,
              "solidity": 0.2
             }
            },
            "type": "bar"
           }
          ],
          "barpolar": [
           {
            "marker": {
             "line": {
              "color": "#E5ECF6",
              "width": 0.5
             },
             "pattern": {
              "fillmode": "overlay",
              "size": 10,
              "solidity": 0.2
             }
            },
            "type": "barpolar"
           }
          ],
          "carpet": [
           {
            "aaxis": {
             "endlinecolor": "#2a3f5f",
             "gridcolor": "white",
             "linecolor": "white",
             "minorgridcolor": "white",
             "startlinecolor": "#2a3f5f"
            },
            "baxis": {
             "endlinecolor": "#2a3f5f",
             "gridcolor": "white",
             "linecolor": "white",
             "minorgridcolor": "white",
             "startlinecolor": "#2a3f5f"
            },
            "type": "carpet"
           }
          ],
          "choropleth": [
           {
            "colorbar": {
             "outlinewidth": 0,
             "ticks": ""
            },
            "type": "choropleth"
           }
          ],
          "contour": [
           {
            "colorbar": {
             "outlinewidth": 0,
             "ticks": ""
            },
            "colorscale": [
             [
              0,
              "#0d0887"
             ],
             [
              0.1111111111111111,
              "#46039f"
             ],
             [
              0.2222222222222222,
              "#7201a8"
             ],
             [
              0.3333333333333333,
              "#9c179e"
             ],
             [
              0.4444444444444444,
              "#bd3786"
             ],
             [
              0.5555555555555556,
              "#d8576b"
             ],
             [
              0.6666666666666666,
              "#ed7953"
             ],
             [
              0.7777777777777778,
              "#fb9f3a"
             ],
             [
              0.8888888888888888,
              "#fdca26"
             ],
             [
              1,
              "#f0f921"
             ]
            ],
            "type": "contour"
           }
          ],
          "contourcarpet": [
           {
            "colorbar": {
             "outlinewidth": 0,
             "ticks": ""
            },
            "type": "contourcarpet"
           }
          ],
          "heatmap": [
           {
            "colorbar": {
             "outlinewidth": 0,
             "ticks": ""
            },
            "colorscale": [
             [
              0,
              "#0d0887"
             ],
             [
              0.1111111111111111,
              "#46039f"
             ],
             [
              0.2222222222222222,
              "#7201a8"
             ],
             [
              0.3333333333333333,
              "#9c179e"
             ],
             [
              0.4444444444444444,
              "#bd3786"
             ],
             [
              0.5555555555555556,
              "#d8576b"
             ],
             [
              0.6666666666666666,
              "#ed7953"
             ],
             [
              0.7777777777777778,
              "#fb9f3a"
             ],
             [
              0.8888888888888888,
              "#fdca26"
             ],
             [
              1,
              "#f0f921"
             ]
            ],
            "type": "heatmap"
           }
          ],
          "heatmapgl": [
           {
            "colorbar": {
             "outlinewidth": 0,
             "ticks": ""
            },
            "colorscale": [
             [
              0,
              "#0d0887"
             ],
             [
              0.1111111111111111,
              "#46039f"
             ],
             [
              0.2222222222222222,
              "#7201a8"
             ],
             [
              0.3333333333333333,
              "#9c179e"
             ],
             [
              0.4444444444444444,
              "#bd3786"
             ],
             [
              0.5555555555555556,
              "#d8576b"
             ],
             [
              0.6666666666666666,
              "#ed7953"
             ],
             [
              0.7777777777777778,
              "#fb9f3a"
             ],
             [
              0.8888888888888888,
              "#fdca26"
             ],
             [
              1,
              "#f0f921"
             ]
            ],
            "type": "heatmapgl"
           }
          ],
          "histogram": [
           {
            "marker": {
             "pattern": {
              "fillmode": "overlay",
              "size": 10,
              "solidity": 0.2
             }
            },
            "type": "histogram"
           }
          ],
          "histogram2d": [
           {
            "colorbar": {
             "outlinewidth": 0,
             "ticks": ""
            },
            "colorscale": [
             [
              0,
              "#0d0887"
             ],
             [
              0.1111111111111111,
              "#46039f"
             ],
             [
              0.2222222222222222,
              "#7201a8"
             ],
             [
              0.3333333333333333,
              "#9c179e"
             ],
             [
              0.4444444444444444,
              "#bd3786"
             ],
             [
              0.5555555555555556,
              "#d8576b"
             ],
             [
              0.6666666666666666,
              "#ed7953"
             ],
             [
              0.7777777777777778,
              "#fb9f3a"
             ],
             [
              0.8888888888888888,
              "#fdca26"
             ],
             [
              1,
              "#f0f921"
             ]
            ],
            "type": "histogram2d"
           }
          ],
          "histogram2dcontour": [
           {
            "colorbar": {
             "outlinewidth": 0,
             "ticks": ""
            },
            "colorscale": [
             [
              0,
              "#0d0887"
             ],
             [
              0.1111111111111111,
              "#46039f"
             ],
             [
              0.2222222222222222,
              "#7201a8"
             ],
             [
              0.3333333333333333,
              "#9c179e"
             ],
             [
              0.4444444444444444,
              "#bd3786"
             ],
             [
              0.5555555555555556,
              "#d8576b"
             ],
             [
              0.6666666666666666,
              "#ed7953"
             ],
             [
              0.7777777777777778,
              "#fb9f3a"
             ],
             [
              0.8888888888888888,
              "#fdca26"
             ],
             [
              1,
              "#f0f921"
             ]
            ],
            "type": "histogram2dcontour"
           }
          ],
          "mesh3d": [
           {
            "colorbar": {
             "outlinewidth": 0,
             "ticks": ""
            },
            "type": "mesh3d"
           }
          ],
          "parcoords": [
           {
            "line": {
             "colorbar": {
              "outlinewidth": 0,
              "ticks": ""
             }
            },
            "type": "parcoords"
           }
          ],
          "pie": [
           {
            "automargin": true,
            "type": "pie"
           }
          ],
          "scatter": [
           {
            "fillpattern": {
             "fillmode": "overlay",
             "size": 10,
             "solidity": 0.2
            },
            "type": "scatter"
           }
          ],
          "scatter3d": [
           {
            "line": {
             "colorbar": {
              "outlinewidth": 0,
              "ticks": ""
             }
            },
            "marker": {
             "colorbar": {
              "outlinewidth": 0,
              "ticks": ""
             }
            },
            "type": "scatter3d"
           }
          ],
          "scattercarpet": [
           {
            "marker": {
             "colorbar": {
              "outlinewidth": 0,
              "ticks": ""
             }
            },
            "type": "scattercarpet"
           }
          ],
          "scattergeo": [
           {
            "marker": {
             "colorbar": {
              "outlinewidth": 0,
              "ticks": ""
             }
            },
            "type": "scattergeo"
           }
          ],
          "scattergl": [
           {
            "marker": {
             "colorbar": {
              "outlinewidth": 0,
              "ticks": ""
             }
            },
            "type": "scattergl"
           }
          ],
          "scattermapbox": [
           {
            "marker": {
             "colorbar": {
              "outlinewidth": 0,
              "ticks": ""
             }
            },
            "type": "scattermapbox"
           }
          ],
          "scatterpolar": [
           {
            "marker": {
             "colorbar": {
              "outlinewidth": 0,
              "ticks": ""
             }
            },
            "type": "scatterpolar"
           }
          ],
          "scatterpolargl": [
           {
            "marker": {
             "colorbar": {
              "outlinewidth": 0,
              "ticks": ""
             }
            },
            "type": "scatterpolargl"
           }
          ],
          "scatterternary": [
           {
            "marker": {
             "colorbar": {
              "outlinewidth": 0,
              "ticks": ""
             }
            },
            "type": "scatterternary"
           }
          ],
          "surface": [
           {
            "colorbar": {
             "outlinewidth": 0,
             "ticks": ""
            },
            "colorscale": [
             [
              0,
              "#0d0887"
             ],
             [
              0.1111111111111111,
              "#46039f"
             ],
             [
              0.2222222222222222,
              "#7201a8"
             ],
             [
              0.3333333333333333,
              "#9c179e"
             ],
             [
              0.4444444444444444,
              "#bd3786"
             ],
             [
              0.5555555555555556,
              "#d8576b"
             ],
             [
              0.6666666666666666,
              "#ed7953"
             ],
             [
              0.7777777777777778,
              "#fb9f3a"
             ],
             [
              0.8888888888888888,
              "#fdca26"
             ],
             [
              1,
              "#f0f921"
             ]
            ],
            "type": "surface"
           }
          ],
          "table": [
           {
            "cells": {
             "fill": {
              "color": "#EBF0F8"
             },
             "line": {
              "color": "white"
             }
            },
            "header": {
             "fill": {
              "color": "#C8D4E3"
             },
             "line": {
              "color": "white"
             }
            },
            "type": "table"
           }
          ]
         },
         "layout": {
          "annotationdefaults": {
           "arrowcolor": "#2a3f5f",
           "arrowhead": 0,
           "arrowwidth": 1
          },
          "autotypenumbers": "strict",
          "coloraxis": {
           "colorbar": {
            "outlinewidth": 0,
            "ticks": ""
           }
          },
          "colorscale": {
           "diverging": [
            [
             0,
             "#8e0152"
            ],
            [
             0.1,
             "#c51b7d"
            ],
            [
             0.2,
             "#de77ae"
            ],
            [
             0.3,
             "#f1b6da"
            ],
            [
             0.4,
             "#fde0ef"
            ],
            [
             0.5,
             "#f7f7f7"
            ],
            [
             0.6,
             "#e6f5d0"
            ],
            [
             0.7,
             "#b8e186"
            ],
            [
             0.8,
             "#7fbc41"
            ],
            [
             0.9,
             "#4d9221"
            ],
            [
             1,
             "#276419"
            ]
           ],
           "sequential": [
            [
             0,
             "#0d0887"
            ],
            [
             0.1111111111111111,
             "#46039f"
            ],
            [
             0.2222222222222222,
             "#7201a8"
            ],
            [
             0.3333333333333333,
             "#9c179e"
            ],
            [
             0.4444444444444444,
             "#bd3786"
            ],
            [
             0.5555555555555556,
             "#d8576b"
            ],
            [
             0.6666666666666666,
             "#ed7953"
            ],
            [
             0.7777777777777778,
             "#fb9f3a"
            ],
            [
             0.8888888888888888,
             "#fdca26"
            ],
            [
             1,
             "#f0f921"
            ]
           ],
           "sequentialminus": [
            [
             0,
             "#0d0887"
            ],
            [
             0.1111111111111111,
             "#46039f"
            ],
            [
             0.2222222222222222,
             "#7201a8"
            ],
            [
             0.3333333333333333,
             "#9c179e"
            ],
            [
             0.4444444444444444,
             "#bd3786"
            ],
            [
             0.5555555555555556,
             "#d8576b"
            ],
            [
             0.6666666666666666,
             "#ed7953"
            ],
            [
             0.7777777777777778,
             "#fb9f3a"
            ],
            [
             0.8888888888888888,
             "#fdca26"
            ],
            [
             1,
             "#f0f921"
            ]
           ]
          },
          "colorway": [
           "#636efa",
           "#EF553B",
           "#00cc96",
           "#ab63fa",
           "#FFA15A",
           "#19d3f3",
           "#FF6692",
           "#B6E880",
           "#FF97FF",
           "#FECB52"
          ],
          "font": {
           "color": "#2a3f5f"
          },
          "geo": {
           "bgcolor": "white",
           "lakecolor": "white",
           "landcolor": "#E5ECF6",
           "showlakes": true,
           "showland": true,
           "subunitcolor": "white"
          },
          "hoverlabel": {
           "align": "left"
          },
          "hovermode": "closest",
          "mapbox": {
           "style": "light"
          },
          "paper_bgcolor": "white",
          "plot_bgcolor": "#E5ECF6",
          "polar": {
           "angularaxis": {
            "gridcolor": "white",
            "linecolor": "white",
            "ticks": ""
           },
           "bgcolor": "#E5ECF6",
           "radialaxis": {
            "gridcolor": "white",
            "linecolor": "white",
            "ticks": ""
           }
          },
          "scene": {
           "xaxis": {
            "backgroundcolor": "#E5ECF6",
            "gridcolor": "white",
            "gridwidth": 2,
            "linecolor": "white",
            "showbackground": true,
            "ticks": "",
            "zerolinecolor": "white"
           },
           "yaxis": {
            "backgroundcolor": "#E5ECF6",
            "gridcolor": "white",
            "gridwidth": 2,
            "linecolor": "white",
            "showbackground": true,
            "ticks": "",
            "zerolinecolor": "white"
           },
           "zaxis": {
            "backgroundcolor": "#E5ECF6",
            "gridcolor": "white",
            "gridwidth": 2,
            "linecolor": "white",
            "showbackground": true,
            "ticks": "",
            "zerolinecolor": "white"
           }
          },
          "shapedefaults": {
           "line": {
            "color": "#2a3f5f"
           }
          },
          "ternary": {
           "aaxis": {
            "gridcolor": "white",
            "linecolor": "white",
            "ticks": ""
           },
           "baxis": {
            "gridcolor": "white",
            "linecolor": "white",
            "ticks": ""
           },
           "bgcolor": "#E5ECF6",
           "caxis": {
            "gridcolor": "white",
            "linecolor": "white",
            "ticks": ""
           }
          },
          "title": {
           "x": 0.05
          },
          "xaxis": {
           "automargin": true,
           "gridcolor": "white",
           "linecolor": "white",
           "ticks": "",
           "title": {
            "standoff": 15
           },
           "zerolinecolor": "white",
           "zerolinewidth": 2
          },
          "yaxis": {
           "automargin": true,
           "gridcolor": "white",
           "linecolor": "white",
           "ticks": "",
           "title": {
            "standoff": 15
           },
           "zerolinecolor": "white",
           "zerolinewidth": 2
          }
         }
        },
        "title": {
         "text": "3D PCA of Student Answers (Total Variance: 33.05%)"
        }
       }
      },
      "image/png": "[encoded data removed]",
      "text/html": [
       "<div>                            <div id=\"e57320eb-7afd-4f93-a561-0a3cf154c032\" class=\"plotly-graph-div\" style=\"height:525px; width:100%;\"></div>            <script type=\"text/javascript\">                require([\"plotly\"], function(Plotly) {                    window.PLOTLYENV=window.PLOTLYENV || {};                                    if (document.getElementById(\"e57320eb-7afd-4f93-a561-0a3cf154c032\")) {                    Plotly.newPlot(                        \"e57320eb-7afd-4f93-a561-0a3cf154c032\",                        [{\"customdata\":[[29],[25],[27],[28],[29],[29],[20],[24],[21],[24],[25],[24],[21],[27],[32],[19],[25],[26],[27],[27],[25],[23]],\"hovertemplate\":\"\\u003cb\\u003e%{text}\\u003c\\u002fb\\u003e\\u003cbr\\u003eScore: %{customdata[0]}\\u003cbr\\u003ePC1: %{x:.2f}\\u003cbr\\u003ePC2: %{y:.2f}\\u003cbr\\u003ePC3: %{z:.2f}\",\"marker\":{\"color\":[\"gray\",\"gray\",\"gray\",\"gray\",\"gray\",\"gray\",\"gray\",\"gray\",\"gray\",\"gray\",\"gray\",\"gray\",\"gray\",\"gray\",\"gray\",\"gray\",\"gray\",\"gray\",\"gray\",\"gray\",\"blue\",\"blue\"],\"opacity\":0.7,\"size\":8},\"mode\":\"markers\",\"text\":[\"Student 0\",\"Student 1\",\"Student 2\",\"Student 3\",\"Student 4\",\"Student 5\",\"Student 6\",\"Student 7\",\"Student 8\",\"Student 9\",\"Student 10\",\"Student 11\",\"Student 12\",\"Student 13\",\"Student 14\",\"Student 15\",\"Student 16\",\"Student 17\",\"Student 18\",\"Student 19\",\"Student 20\",\"Student 21\"],\"x\":[-0.8613283345172722,0.38432272421457736,1.3682123272822224,-0.2729088815882585,-0.6194401275523693,0.23763753704890705,-2.854969367824888,0.8266846917216849,0.8872989098168003,0.03694021900254483,0.12400725968220583,-0.7658714904560074,0.26253418889437097,-0.44060475843171415,-0.02395349162668779,-2.061097597630308,-0.6244542933723914,-0.8601131967424079,0.6958151638947571,-0.6134444984937611,2.4299219018374334,2.744811114840563],\"y\":[1.1946095752809995,1.13390703168987,0.41669924483416937,0.2545848352822334,0.8910447410780666,-0.03304869144312459,1.2133433583132192,0.04731589420942396,-2.2073029120943084,-1.631143069551466,1.5512575414830936,-0.6190327183936117,-1.7727920243298096,0.18838282773631404,0.5768353873462175,-2.567592189544554,-1.421634835349976,0.5087210768759147,0.8557211511144812,1.2434575115367281,0.21586731145553434,-0.039201047529411844],\"z\":[-0.6820610088899361,0.5744634127671967,-0.9392030383193781,-0.44695770808570284,-0.13595688194863306,0.011786053808095642,-2.01624953619613,1.630303334550879,-1.800585516788998,-0.11180902607646355,0.48234318493384853,1.8108764682227312,2.0488907917965853,0.5071581121960956,0.5436235157792525,-1.3089374384352455,0.9196870315819754,0.7717503513562411,0.6202063762326239,-0.0665881826875894,-1.5291418966030712,-0.8835983991943792],\"type\":\"scatter3d\"}],                        {\"template\":{\"data\":{\"histogram2dcontour\":[{\"type\":\"histogram2dcontour\",\"colorbar\":{\"outlinewidth\":0,\"ticks\":\"\"},\"colorscale\":[[0.0,\"#0d0887\"],[0.1111111111111111,\"#46039f\"],[0.2222222222222222,\"#7201a8\"],[0.3333333333333333,\"#9c179e\"],[0.4444444444444444,\"#bd3786\"],[0.5555555555555556,\"#d8576b\"],[0.6666666666666666,\"#ed7953\"],[0.7777777777777778,\"#fb9f3a\"],[0.8888888888888888,\"#fdca26\"],[1.0,\"#f0f921\"]]}],\"choropleth\":[{\"type\":\"choropleth\",\"colorbar\":{\"outlinewidth\":0,\"ticks\":\"\"}}],\"histogram2d\":[{\"type\":\"histogram2d\",\"colorbar\":{\"outlinewidth\":0,\"ticks\":\"\"},\"colorscale\":[[0.0,\"#0d0887\"],[0.1111111111111111,\"#46039f\"],[0.2222222222222222,\"#7201a8\"],[0.3333333333333333,\"#9c179e\"],[0.4444444444444444,\"#bd3786\"],[0.5555555555555556,\"#d8576b\"],[0.6666666666666666,\"#ed7953\"],[0.7777777777777778,\"#fb9f3a\"],[0.8888888888888888,\"#fdca26\"],[1.0,\"#f0f921\"]]}],\"heatmap\":[{\"type\":\"heatmap\",\"colorbar\":{\"outlinewidth\":0,\"ticks\":\"\"},\"colorscale\":[[0.0,\"#0d0887\"],[0.1111111111111111,\"#46039f\"],[0.2222222222222222,\"#7201a8\"],[0.3333333333333333,\"#9c179e\"],[0.4444444444444444,\"#bd3786\"],[0.5555555555555556,\"#d8576b\"],[0.6666666666666666,\"#ed7953\"],[0.7777777777777778,\"#fb9f3a\"],[0.8888888888888888,\"#fdca26\"],[1.0,\"#f0f921\"]]}],\"heatmapgl\":[{\"type\":\"heatmapgl\",\"colorbar\":{\"outlinewidth\":0,\"ticks\":\"\"},\"colorscale\":[[0.0,\"#0d0887\"],[0.1111111111111111,\"#46039f\"],[0.2222222222222222,\"#7201a8\"],[0.3333333333333333,\"#9c179e\"],[0.4444444444444444,\"#bd3786\"],[0.5555555555555556,\"#d8576b\"],[0.6666666666666666,\"#ed7953\"],[0.7777777777777778,\"#fb9f3a\"],[0.8888888888888888,\"#fdca26\"],[1.0,\"#f0f921\"]]}],\"contourcarpet\":[{\"type\":\"contourcarpet\",\"colorbar\":{\"outlinewidth\":0,\"ticks\":\"\"}}],\"contour\":[{\"type\":\"contour\",\"colorbar\":{\"outlinewidth\":0,\"ticks\":\"\"},\"colorscale\":[[0.0,\"#0d0887\"],[0.1111111111111111,\"#46039f\"],[0.2222222222222222,\"#7201a8\"],[0.3333333333333333,\"#9c179e\"],[0.4444444444444444,\"#bd3786\"],[0.5555555555555556,\"#d8576b\"],[0.6666666666666666,\"#ed7953\"],[0.7777777777777778,\"#fb9f3a\"],[0.8888888888888888,\"#fdca26\"],[1.0,\"#f0f921\"]]}],\"surface\":[{\"type\":\"surface\",\"colorbar\":{\"outlinewidth\":0,\"ticks\":\"\"},\"colorscale\":[[0.0,\"#0d0887\"],[0.1111111111111111,\"#46039f\"],[0.2222222222222222,\"#7201a8\"],[0.3333333333333333,\"#9c179e\"],[0.4444444444444444,\"#bd3786\"],[0.5555555555555556,\"#d8576b\"],[0.6666666666666666,\"#ed7953\"],[0.7777777777777778,\"#fb9f3a\"],[0.8888888888888888,\"#fdca26\"],[1.0,\"#f0f921\"]]}],\"mesh3d\":[{\"type\":\"mesh3d\",\"colorbar\":{\"outlinewidth\":0,\"ticks\":\"\"}}],\"scatter\":[{\"fillpattern\":{\"fillmode\":\"overlay\",\"size\":10,\"solidity\":0.2},\"type\":\"scatter\"}],\"parcoords\":[{\"type\":\"parcoords\",\"line\":{\"colorbar\":{\"outlinewidth\":0,\"ticks\":\"\"}}}],\"scatterpolargl\":[{\"type\":\"scatterpolargl\",\"marker\":{\"colorbar\":{\"outlinewidth\":0,\"ticks\":\"\"}}}],\"bar\":[{\"error_x\":{\"color\":\"#2a3f5f\"},\"error_y\":{\"color\":\"#2a3f5f\"},\"marker\":{\"line\":{\"color\":\"#E5ECF6\",\"width\":0.5},\"pattern\":{\"fillmode\":\"overlay\",\"size\":10,\"solidity\":0.2}},\"type\":\"bar\"}],\"scattergeo\":[{\"type\":\"scattergeo\",\"marker\":{\"colorbar\":{\"outlinewidth\":0,\"ticks\":\"\"}}}],\"scatterpolar\":[{\"type\":\"scatterpolar\",\"marker\":{\"colorbar\":{\"outlinewidth\":0,\"ticks\":\"\"}}}],\"histogram\":[{\"marker\":{\"pattern\":{\"fillmode\":\"overlay\",\"size\":10,\"solidity\":0.2}},\"type\":\"histogram\"}],\"scattergl\":[{\"type\":\"scattergl\",\"marker\":{\"colorbar\":{\"outlinewidth\":0,\"ticks\":\"\"}}}],\"scatter3d\":[{\"type\":\"scatter3d\",\"line\":{\"colorbar\":{\"outlinewidth\":0,\"ticks\":\"\"}},\"marker\":{\"colorbar\":{\"outlinewidth\":0,\"ticks\":\"\"}}}],\"scattermapbox\":[{\"type\":\"scattermapbox\",\"marker\":{\"colorbar\":{\"outlinewidth\":0,\"ticks\":\"\"}}}],\"scatterternary\":[{\"type\":\"scatterternary\",\"marker\":{\"colorbar\":{\"outlinewidth\":0,\"ticks\":\"\"}}}],\"scattercarpet\":[{\"type\":\"scattercarpet\",\"marker\":{\"colorbar\":{\"outlinewidth\":0,\"ticks\":\"\"}}}],\"carpet\":[{\"aaxis\":{\"endlinecolor\":\"#2a3f5f\",\"gridcolor\":\"white\",\"linecolor\":\"white\",\"minorgridcolor\":\"white\",\"startlinecolor\":\"#2a3f5f\"},\"baxis\":{\"endlinecolor\":\"#2a3f5f\",\"gridcolor\":\"white\",\"linecolor\":\"white\",\"minorgridcolor\":\"white\",\"startlinecolor\":\"#2a3f5f\"},\"type\":\"carpet\"}],\"table\":[{\"cells\":{\"fill\":{\"color\":\"#EBF0F8\"},\"line\":{\"color\":\"white\"}},\"header\":{\"fill\":{\"color\":\"#C8D4E3\"},\"line\":{\"color\":\"white\"}},\"type\":\"table\"}],\"barpolar\":[{\"marker\":{\"line\":{\"color\":\"#E5ECF6\",\"width\":0.5},\"pattern\":{\"fillmode\":\"overlay\",\"size\":10,\"solidity\":0.2}},\"type\":\"barpolar\"}],\"pie\":[{\"automargin\":true,\"type\":\"pie\"}]},\"layout\":{\"autotypenumbers\":\"strict\",\"colorway\":[\"#636efa\",\"#EF553B\",\"#00cc96\",\"#ab63fa\",\"#FFA15A\",\"#19d3f3\",\"#FF6692\",\"#B6E880\",\"#FF97FF\",\"#FECB52\"],\"font\":{\"color\":\"#2a3f5f\"},\"hovermode\":\"closest\",\"hoverlabel\":{\"align\":\"left\"},\"paper_bgcolor\":\"white\",\"plot_bgcolor\":\"#E5ECF6\",\"polar\":{\"bgcolor\":\"#E5ECF6\",\"angularaxis\":{\"gridcolor\":\"white\",\"linecolor\":\"white\",\"ticks\":\"\"},\"radialaxis\":{\"gridcolor\":\"white\",\"linecolor\":\"white\",\"ticks\":\"\"}},\"ternary\":{\"bgcolor\":\"#E5ECF6\",\"aaxis\":{\"gridcolor\":\"white\",\"linecolor\":\"white\",\"ticks\":\"\"},\"baxis\":{\"gridcolor\":\"white\",\"linecolor\":\"white\",\"ticks\":\"\"},\"caxis\":{\"gridcolor\":\"white\",\"linecolor\":\"white\",\"ticks\":\"\"}},\"coloraxis\":{\"colorbar\":{\"outlinewidth\":0,\"ticks\":\"\"}},\"colorscale\":{\"sequential\":[[0.0,\"#0d0887\"],[0.1111111111111111,\"#46039f\"],[0.2222222222222222,\"#7201a8\"],[0.3333333333333333,\"#9c179e\"],[0.4444444444444444,\"#bd3786\"],[0.5555555555555556,\"#d8576b\"],[0.6666666666666666,\"#ed7953\"],[0.7777777777777778,\"#fb9f3a\"],[0.8888888888888888,\"#fdca26\"],[1.0,\"#f0f921\"]],\"sequentialminus\":[[0.0,\"#0d0887\"],[0.1111111111111111,\"#46039f\"],[0.2222222222222222,\"#7201a8\"],[0.3333333333333333,\"#9c179e\"],[0.4444444444444444,\"#bd3786\"],[0.5555555555555556,\"#d8576b\"],[0.6666666666666666,\"#ed7953\"],[0.7777777777777778,\"#fb9f3a\"],[0.8888888888888888,\"#fdca26\"],[1.0,\"#f0f921\"]],\"diverging\":[[0,\"#8e0152\"],[0.1,\"#c51b7d\"],[0.2,\"#de77ae\"],[0.3,\"#f1b6da\"],[0.4,\"#fde0ef\"],[0.5,\"#f7f7f7\"],[0.6,\"#e6f5d0\"],[0.7,\"#b8e186\"],[0.8,\"#7fbc41\"],[0.9,\"#4d9221\"],[1,\"#276419\"]]},\"xaxis\":{\"gridcolor\":\"white\",\"linecolor\":\"white\",\"ticks\":\"\",\"title\":{\"standoff\":15},\"zerolinecolor\":\"white\",\"automargin\":true,\"zerolinewidth\":2},\"yaxis\":{\"gridcolor\":\"white\",\"linecolor\":\"white\",\"ticks\":\"\",\"title\":{\"standoff\":15},\"zerolinecolor\":\"white\",\"automargin\":true,\"zerolinewidth\":2},\"scene\":{\"xaxis\":{\"backgroundcolor\":\"#E5ECF6\",\"gridcolor\":\"white\",\"linecolor\":\"white\",\"showbackground\":true,\"ticks\":\"\",\"zerolinecolor\":\"white\",\"gridwidth\":2},\"yaxis\":{\"backgroundcolor\":\"#E5ECF6\",\"gridcolor\":\"white\",\"linecolor\":\"white\",\"showbackground\":true,\"ticks\":\"\",\"zerolinecolor\":\"white\",\"gridwidth\":2},\"zaxis\":{\"backgroundcolor\":\"#E5ECF6\",\"gridcolor\":\"white\",\"linecolor\":\"white\",\"showbackground\":true,\"ticks\":\"\",\"zerolinecolor\":\"white\",\"gridwidth\":2}},\"shapedefaults\":{\"line\":{\"color\":\"#2a3f5f\"}},\"annotationdefaults\":{\"arrowcolor\":\"#2a3f5f\",\"arrowhead\":0,\"arrowwidth\":1},\"geo\":{\"bgcolor\":\"white\",\"landcolor\":\"#E5ECF6\",\"subunitcolor\":\"white\",\"showland\":true,\"showlakes\":true,\"lakecolor\":\"white\"},\"title\":{\"x\":0.05},\"mapbox\":{\"style\":\"light\"}}},\"font\":{\"size\":12},\"margin\":{\"l\":0,\"r\":0,\"b\":0,\"t\":40},\"title\":{\"text\":\"3D PCA of Student Answers (Total Variance: 33.05%)\"},\"scene\":{\"xaxis\":{\"title\":{\"text\":\"PC1 (12.21%)\"}},\"yaxis\":{\"title\":{\"text\":\"PC2 (11.05%)\"}},\"zaxis\":{\"title\":{\"text\":\"PC3 (9.79%)\"}}},\"showlegend\":false},                        {\"responsive\": true}                    ).then(function(){\n",
       "                            \n",
       "var gd = document.getElementById('e57320eb-7afd-4f93-a561-0a3cf154c032');\n",
       "var x = new MutationObserver(function (mutations, observer) {{\n",
       "        var display = window.getComputedStyle(gd).display;\n",
       "        if (!display || display === 'none') {{\n",
       "            console.log([gd, 'removed!']);\n",
       "            Plotly.purge(gd);\n",
       "            observer.disconnect();\n",
       "        }}\n",
       "}});\n",
       "\n",
       "// Listen for the removal of the full notebook cells\n",
       "var notebookContainer = gd.closest('#notebook-container');\n",
       "if (notebookContainer) {{\n",
       "    x.observe(notebookContainer, {childList: true});\n",
       "}}\n",
       "\n",
       "// Listen for the clearing of the current output cell\n",
       "var outputEl = gd.closest('.output');\n",
       "if (outputEl) {{\n",
       "    x.observe(outputEl, {childList: true});\n",
       "}}\n",
       "\n",
       "                        })                };                });            </script>        </div>"
      ]
     },
     "metadata": {},
     "output_type": "display_data"
    },
    {
     "name": "stdout",
     "output_type": "stream",
     "text": [
      "Variance explained by each principal component:\n",
      "PC1: 12.21%\n",
      "PC2: 11.05%\n",
      "PC3: 9.79%\n",
      "Total variance explained by first 3 PCs: 33.05%\n"
     ]
    }
   ],
   "source": [
    "from sklearn.cluster import DBSCAN\n",
    "from sklearn.cluster import HDBSCAN\n",
    "X = np.array([student.flatten() for student in students])\n",
    "clustering = DBSCAN(eps=.1, min_samples=2,metric='hamming').fit(X)\n",
    "#clustering = HDBSCAN(min_cluster_size=2,metric='hamming').fit(X)\n",
    "labels = clustering.labels_\n",
    "\n",
    "# Apply PCA\n",
    "pca = PCA(n_components=3)\n",
    "X_pca = pca.fit_transform(X)\n",
    "# Calculate the explained variance\n",
    "explained_variance = pca.explained_variance_ratio_\n",
    "total_variance = sum(explained_variance)\n",
    "\n",
    "centroid = np.median(X_pca, axis=0).reshape(1, -1)\n",
    "distances = cdist(X_pca, centroid, metric='euclidean').flatten()\n",
    "normalized_distances = (distances - np.mean(distances)) / np.std(distances)\n",
    "\n",
    "std_dev = np.std(normalized_distances)\n",
    "distance_threshold = np.mean(normalized_distances) + 2 * std_dev\n",
    "outliers_mask = distances > distance_threshold\n",
    "labels=np.where(outliers_mask==True,labels,-1)\n",
    "\n",
    "student_ids = [f\"Student {i}\" for i in range(len(students))]\n",
    "\n",
    "colors_scheme=['red','blue','green','gray']\n",
    "colors=[]\n",
    "for L in labels:\n",
    "    colors.append(colors_scheme[L])\n",
    "    \n",
    "\n",
    "# Convert to DataFrame for plotly\n",
    "df = pd.DataFrame({\n",
    "    'PC1': X_pca[:, 0],\n",
    "    'PC2': X_pca[:, 1],\n",
    "    'PC3': X_pca[:, 2],\n",
    "    'Student_ID': student_ids,\n",
    "    'Score': scores,\n",
    "    'Color': colors\n",
    "})\n",
    "\n",
    "# Create interactive 3D plot with Plotly\n",
    "fig = go.Figure()\n",
    "\n",
    "# Add all students as scatter points\n",
    "fig.add_trace(go.Scatter3d(\n",
    "    x=df['PC1'],\n",
    "    y=df['PC2'],\n",
    "    z=df['PC3'],\n",
    "    mode='markers',\n",
    "    marker=dict(\n",
    "        size=8,\n",
    "        color=df['Color'],\n",
    "        opacity=0.7\n",
    "    ),\n",
    "    text=df['Student_ID'],\n",
    "    hovertemplate=\n",
    "    '<b>%{text}</b><br>' +\n",
    "    'Score: %{customdata[0]}<br>' +\n",
    "    'PC1: %{x:.2f}<br>' +\n",
    "    'PC2: %{y:.2f}<br>' +\n",
    "    'PC3: %{z:.2f}',\n",
    "    customdata=np.stack((df['Score'],), axis=-1)\n",
    "))\n",
    "\n",
    "# Update the layout\n",
    "fig.update_layout(\n",
    "    title=f'3D PCA of Student Answers (Total Variance: {total_variance:.2%})',\n",
    "    scene=dict(\n",
    "        xaxis_title=f'PC1 ({explained_variance[0]:.2%})',\n",
    "        yaxis_title=f'PC2 ({explained_variance[1]:.2%})',\n",
    "        zaxis_title=f'PC3 ({explained_variance[2]:.2%})',\n",
    "    ),\n",
    "    font=dict(size=12),\n",
    "    margin=dict(l=0, r=0, b=0, t=40),\n",
    "    showlegend=False\n",
    ")\n",
    "\n",
    "# Show the figure\n",
    "fig.show()\n",
    "\n",
    "# Print variance explained\n",
    "print(\"Variance explained by each principal component:\")\n",
    "for i, var in enumerate(explained_variance):\n",
    "    print(f\"PC{i+1}: {var:.2%}\")\n",
    "print(f\"Total variance explained by first 3 PCs: {total_variance:.2%}\")\n",
    "\n",
    "# For environments that can't display interactive plotly plots,\n",
    "# save as HTML file that can be opened in any browser\n",
    "fig.write_html(\"pca_visualization_3d.html\")\n"
   ]
  },
  {
   "cell_type": "code",
   "execution_count": 1870,
   "id": "b6ddfd3b-e8a4-4c67-9111-fcfec85c3d96",
   "metadata": {},
   "outputs": [
    {
     "data": {
      "text/plain": [
       "array([[1, 0, 0, 0],\n",
       "       [0, 1, 0, 0],\n",
       "       [0, 0, 1, 0],\n",
       "       [0, 0, 0, 1],\n",
       "       [1, 0, 0, 0],\n",
       "       [0, 1, 0, 0],\n",
       "       [0, 0, 1, 0],\n",
       "       [0, 0, 0, 1],\n",
       "       [1, 0, 0, 0],\n",
       "       [0, 1, 0, 0],\n",
       "       [0, 0, 1, 0],\n",
       "       [0, 0, 0, 1],\n",
       "       [1, 0, 0, 0],\n",
       "       [0, 1, 0, 0],\n",
       "       [0, 0, 1, 0],\n",
       "       [0, 0, 0, 1],\n",
       "       [1, 0, 0, 0],\n",
       "       [0, 1, 0, 0],\n",
       "       [0, 0, 1, 0],\n",
       "       [0, 0, 0, 1],\n",
       "       [1, 0, 0, 0],\n",
       "       [0, 1, 0, 0],\n",
       "       [0, 0, 1, 0],\n",
       "       [0, 0, 0, 1],\n",
       "       [1, 0, 0, 0],\n",
       "       [0, 1, 0, 0],\n",
       "       [0, 0, 1, 0],\n",
       "       [0, 0, 0, 1],\n",
       "       [1, 0, 0, 0],\n",
       "       [0, 1, 0, 0],\n",
       "       [0, 0, 1, 0],\n",
       "       [0, 0, 0, 1],\n",
       "       [1, 0, 0, 0]])"
      ]
     },
     "execution_count": 1870,
     "metadata": {},
     "output_type": "execute_result"
    }
   ],
   "source": [
    "model"
   ]
  },
  {
   "cell_type": "code",
   "execution_count": null,
   "id": "986be7e7-12e3-4411-b5db-1d1baec9a498",
   "metadata": {},
   "outputs": [],
   "source": []
  },
  {
   "cell_type": "code",
   "execution_count": null,
   "id": "e42fea72-b2fa-49fa-91cb-924c576e0bde",
   "metadata": {},
   "outputs": [],
   "source": []
  },
  {
   "cell_type": "code",
   "execution_count": null,
   "id": "3343b3e6-869d-4490-a988-212b0c3dc947",
   "metadata": {},
   "outputs": [],
   "source": []
  },
  {
   "cell_type": "code",
   "execution_count": null,
   "id": "3929157f-9088-4aa5-b390-edd55137de86",
   "metadata": {},
   "outputs": [],
   "source": []
  },
  {
   "cell_type": "code",
   "execution_count": null,
   "id": "c180a853-d85e-4179-b0d3-4bfb6a46e8ce",
   "metadata": {},
   "outputs": [],
   "source": []
  },
  {
   "cell_type": "code",
   "execution_count": null,
   "id": "cadf20fa-58d4-4898-b0bd-69bc0007b323",
   "metadata": {},
   "outputs": [],
   "source": []
  },
  {
   "cell_type": "code",
   "execution_count": null,
   "id": "3fc17741-7008-44b7-88ea-7a2597c94cc5",
   "metadata": {},
   "outputs": [],
   "source": []
  },
  {
   "cell_type": "code",
   "execution_count": null,
   "id": "2a64f72d-5fbd-4757-9db0-e43f7fd96631",
   "metadata": {},
   "outputs": [],
   "source": []
  },
  {
   "cell_type": "code",
   "execution_count": null,
   "id": "4d6fde48-309d-49af-aa3f-68ee6f9bc999",
   "metadata": {},
   "outputs": [],
   "source": []
  },
  {
   "cell_type": "code",
   "execution_count": null,
   "id": "296a7791-a750-4db6-847e-be3d5fc9c13a",
   "metadata": {},
   "outputs": [],
   "source": []
  },
  {
   "cell_type": "code",
   "execution_count": null,
   "id": "91ffb7ea-1db5-47a4-afab-30fec39c2753",
   "metadata": {},
   "outputs": [],
   "source": []
  },
  {
   "cell_type": "code",
   "execution_count": null,
   "id": "5bf5d92a-9e8f-4e5b-956a-20690b36aadf",
   "metadata": {},
   "outputs": [],
   "source": []
  },
  {
   "cell_type": "code",
   "execution_count": null,
   "id": "38f7784d-9214-4109-b9d4-230ca9333ce4",
   "metadata": {},
   "outputs": [],
   "source": []
  },
  {
   "cell_type": "code",
   "execution_count": null,
   "id": "a9adebb8-cbf0-407b-8616-6708699663b5",
   "metadata": {},
   "outputs": [],
   "source": []
  },
  {
   "cell_type": "code",
   "execution_count": null,
   "id": "31b9496b-e24f-443d-8584-ee79012eb588",
   "metadata": {},
   "outputs": [],
   "source": [
    "\n"
   ]
  },
  {
   "cell_type": "code",
   "execution_count": null,
   "id": "d9af828e-76ab-4254-a0ae-350b1c4bb846",
   "metadata": {},
   "outputs": [],
   "source": []
  },
  {
   "cell_type": "code",
   "execution_count": null,
   "id": "2125faea-fd57-40e5-97a4-58dee0cf04d8",
   "metadata": {},
   "outputs": [],
   "source": []
  },
  {
   "cell_type": "code",
   "execution_count": null,
   "id": "9782c8eb-713a-45b6-b0a5-bb20402c68d2",
   "metadata": {},
   "outputs": [],
   "source": []
  },
  {
   "cell_type": "code",
   "execution_count": null,
   "id": "70ee98e9-c3a5-4b8e-a478-3d3f6a1d856f",
   "metadata": {},
   "outputs": [],
   "source": []
  },
  {
   "cell_type": "code",
   "execution_count": null,
   "id": "e8d01d8e-f6c8-4b38-9464-b4245bd582d6",
   "metadata": {},
   "outputs": [],
   "source": []
  },
  {
   "cell_type": "code",
   "execution_count": null,
   "id": "8a10eb78-8caa-4af4-8d0e-4c09c5548621",
   "metadata": {},
   "outputs": [],
   "source": []
  },
  {
   "cell_type": "code",
   "execution_count": null,
   "id": "52fbea3d-cd8e-4e8e-8358-55629d734677",
   "metadata": {},
   "outputs": [],
   "source": []
  },
  {
   "cell_type": "code",
   "execution_count": null,
   "id": "e354e394-0214-485f-aa87-887292acda29",
   "metadata": {},
   "outputs": [],
   "source": []
  },
  {
   "cell_type": "code",
   "execution_count": null,
   "id": "e9bb22cd-6125-4547-aa7d-249eff0ebde8",
   "metadata": {},
   "outputs": [],
   "source": []
  },
  {
   "cell_type": "code",
   "execution_count": null,
   "id": "4babc223-4871-409d-9012-f76ddc6bac96",
   "metadata": {},
   "outputs": [],
   "source": []
  },
  {
   "cell_type": "code",
   "execution_count": null,
   "id": "6e89a336-0ad4-42e8-a437-d676f121888c",
   "metadata": {},
   "outputs": [],
   "source": []
  }
 ],
 "metadata": {
  "kernelspec": {
   "display_name": "Python 3 (ipykernel)",
   "language": "python",
   "name": "python3"
  },
  "language_info": {
   "codemirror_mode": {
    "name": "ipython",
    "version": 3
   },
   "file_extension": ".py",
   "mimetype": "text/x-python",
   "name": "python",
   "nbconvert_exporter": "python",
   "pygments_lexer": "ipython3",
   "version": "3.12.7"
  }
 },
 "nbformat": 4,
 "nbformat_minor": 5
}
