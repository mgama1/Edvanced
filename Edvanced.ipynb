{
 "cells": [
  {
   "cell_type": "code",
   "execution_count": null,
   "id": "49a7ab79-d990-4cf7-9b91-1e1a438d1721",
   "metadata": {},
   "outputs": [],
   "source": []
  },
  {
   "cell_type": "code",
   "execution_count": 68,
   "id": "de26c09f-e96d-4c8b-bd9c-a75316c9b4b7",
   "metadata": {},
   "outputs": [],
   "source": [
    "import cv2\n",
    "import numpy as np"
   ]
  },
  {
   "cell_type": "code",
   "execution_count": 69,
   "id": "13fa4544-d7be-4c34-a469-d14639de79f9",
   "metadata": {},
   "outputs": [],
   "source": [
    "import cv2\n",
    "import numpy as np\n",
    "from transformers import TrOCRProcessor, VisionEncoderDecoderModel\n",
    "from PIL import Image\n",
    "import torch\n",
    "from transformers.utils import logging\n",
    "logging.set_verbosity_info()\n"
   ]
  },
  {
   "cell_type": "code",
   "execution_count": null,
   "id": "cfadcb9c-c146-42c0-9b5d-94b508d0abce",
   "metadata": {},
   "outputs": [],
   "source": []
  },
  {
   "cell_type": "code",
   "execution_count": 70,
   "id": "fb247b10-f167-40e6-ac72-1726a86e2823",
   "metadata": {},
   "outputs": [
    {
     "name": "stderr",
     "output_type": "stream",
     "text": [
      "loading configuration file preprocessor_config.json from cache at C:\\Users\\mahmoud\\.cache\\huggingface\\hub\\models--microsoft--trocr-small-handwritten\\snapshots\\b4648cfa171985a6745f37ddd637e98c0da958ac\\preprocessor_config.json\n",
      "size should be a dictionary on of the following set of keys: ({'width', 'height'}, {'shortest_edge'}, {'shortest_edge', 'longest_edge'}, {'longest_edge'}, {'max_width', 'max_height'}), got 384. Converted to {'height': 384, 'width': 384}.\n",
      "crop_size should be a dictionary on of the following set of keys: ({'width', 'height'}, {'shortest_edge'}, {'shortest_edge', 'longest_edge'}, {'longest_edge'}, {'max_width', 'max_height'}), got 224. Converted to {'height': 224, 'width': 224}.\n",
      "Image processor DeiTImageProcessor {\n",
      "  \"crop_size\": {\n",
      "    \"height\": 224,\n",
      "    \"width\": 224\n",
      "  },\n",
      "  \"do_center_crop\": false,\n",
      "  \"do_normalize\": true,\n",
      "  \"do_rescale\": true,\n",
      "  \"do_resize\": true,\n",
      "  \"image_mean\": [\n",
      "    0.5,\n",
      "    0.5,\n",
      "    0.5\n",
      "  ],\n",
      "  \"image_processor_type\": \"DeiTImageProcessor\",\n",
      "  \"image_std\": [\n",
      "    0.5,\n",
      "    0.5,\n",
      "    0.5\n",
      "  ],\n",
      "  \"resample\": 3,\n",
      "  \"rescale_factor\": 0.00392156862745098,\n",
      "  \"size\": {\n",
      "    \"height\": 384,\n",
      "    \"width\": 384\n",
      "  }\n",
      "}\n",
      "\n",
      "loading file sentencepiece.bpe.model from cache at C:\\Users\\mahmoud\\.cache\\huggingface\\hub\\models--microsoft--trocr-small-handwritten\\snapshots\\b4648cfa171985a6745f37ddd637e98c0da958ac\\sentencepiece.bpe.model\n",
      "loading file added_tokens.json from cache at None\n",
      "loading file special_tokens_map.json from cache at C:\\Users\\mahmoud\\.cache\\huggingface\\hub\\models--microsoft--trocr-small-handwritten\\snapshots\\b4648cfa171985a6745f37ddd637e98c0da958ac\\special_tokens_map.json\n",
      "loading file tokenizer_config.json from cache at C:\\Users\\mahmoud\\.cache\\huggingface\\hub\\models--microsoft--trocr-small-handwritten\\snapshots\\b4648cfa171985a6745f37ddd637e98c0da958ac\\tokenizer_config.json\n",
      "loading file tokenizer.json from cache at None\n",
      "loading file chat_template.jinja from cache at None\n",
      "Processor TrOCRProcessor:\n",
      "- image_processor: DeiTImageProcessor {\n",
      "  \"crop_size\": {\n",
      "    \"height\": 224,\n",
      "    \"width\": 224\n",
      "  },\n",
      "  \"do_center_crop\": false,\n",
      "  \"do_normalize\": true,\n",
      "  \"do_rescale\": true,\n",
      "  \"do_resize\": true,\n",
      "  \"image_mean\": [\n",
      "    0.5,\n",
      "    0.5,\n",
      "    0.5\n",
      "  ],\n",
      "  \"image_processor_type\": \"DeiTImageProcessor\",\n",
      "  \"image_std\": [\n",
      "    0.5,\n",
      "    0.5,\n",
      "    0.5\n",
      "  ],\n",
      "  \"resample\": 3,\n",
      "  \"rescale_factor\": 0.00392156862745098,\n",
      "  \"size\": {\n",
      "    \"height\": 384,\n",
      "    \"width\": 384\n",
      "  }\n",
      "}\n",
      "\n",
      "- tokenizer: XLMRobertaTokenizer(name_or_path='microsoft/trocr-small-handwritten', vocab_size=64002, model_max_length=1000000000000000019884624838656, is_fast=False, padding_side='right', truncation_side='right', special_tokens={'bos_token': '<s>', 'eos_token': '</s>', 'unk_token': '<unk>', 'sep_token': '</s>', 'pad_token': '<pad>', 'cls_token': '<s>', 'mask_token': '<mask>'}, clean_up_tokenization_spaces=False, added_tokens_decoder={\n",
      "\t0: AddedToken(\"<s>\", rstrip=False, lstrip=False, single_word=False, normalized=False, special=True),\n",
      "\t1: AddedToken(\"<pad>\", rstrip=False, lstrip=False, single_word=False, normalized=False, special=True),\n",
      "\t2: AddedToken(\"</s>\", rstrip=False, lstrip=False, single_word=False, normalized=False, special=True),\n",
      "\t3: AddedToken(\"<unk>\", rstrip=False, lstrip=False, single_word=False, normalized=False, special=True),\n",
      "\t64001: AddedToken(\"<mask>\", rstrip=False, lstrip=True, single_word=False, normalized=True, special=True),\n",
      "}\n",
      ")\n",
      "\n",
      "{\n",
      "  \"processor_class\": \"TrOCRProcessor\"\n",
      "}\n",
      "\n",
      "loading configuration file config.json from cache at C:\\Users\\mahmoud\\.cache\\huggingface\\hub\\models--microsoft--trocr-small-handwritten\\snapshots\\b4648cfa171985a6745f37ddd637e98c0da958ac\\config.json\n",
      "Model config VisionEncoderDecoderConfig {\n",
      "  \"architectures\": [\n",
      "    \"VisionEncoderDecoderModel\"\n",
      "  ],\n",
      "  \"decoder\": {\n",
      "    \"activation_dropout\": 0.0,\n",
      "    \"activation_function\": \"relu\",\n",
      "    \"add_cross_attention\": true,\n",
      "    \"attention_dropout\": 0.0,\n",
      "    \"classifier_dropout\": 0.0,\n",
      "    \"cross_attention_hidden_size\": 384,\n",
      "    \"d_model\": 256,\n",
      "    \"decoder_attention_heads\": 8,\n",
      "    \"decoder_ffn_dim\": 1024,\n",
      "    \"decoder_layerdrop\": 0.0,\n",
      "    \"decoder_layers\": 6,\n",
      "    \"dropout\": 0.1,\n",
      "    \"init_std\": 0.02,\n",
      "    \"is_decoder\": true,\n",
      "    \"layernorm_embedding\": true,\n",
      "    \"max_position_embeddings\": 512,\n",
      "    \"model_type\": \"trocr\",\n",
      "    \"scale_embedding\": true,\n",
      "    \"tie_word_embeddings\": false,\n",
      "    \"use_cache\": false,\n",
      "    \"use_learned_position_embeddings\": true,\n",
      "    \"vocab_size\": 64044\n",
      "  },\n",
      "  \"encoder\": {\n",
      "    \"attention_probs_dropout_prob\": 0.0,\n",
      "    \"encoder_stride\": 16,\n",
      "    \"hidden_act\": \"gelu\",\n",
      "    \"hidden_dropout_prob\": 0.0,\n",
      "    \"hidden_size\": 384,\n",
      "    \"image_size\": 384,\n",
      "    \"initializer_range\": 0.02,\n",
      "    \"intermediate_size\": 1536,\n",
      "    \"layer_norm_eps\": 1e-12,\n",
      "    \"model_type\": \"deit\",\n",
      "    \"num_attention_heads\": 6,\n",
      "    \"num_channels\": 3,\n",
      "    \"num_hidden_layers\": 12,\n",
      "    \"patch_size\": 16,\n",
      "    \"pooler_act\": \"tanh\",\n",
      "    \"pooler_output_size\": 384,\n",
      "    \"qkv_bias\": true\n",
      "  },\n",
      "  \"eos_token_id\": 2,\n",
      "  \"is_encoder_decoder\": true,\n",
      "  \"model_type\": \"vision-encoder-decoder\",\n",
      "  \"tie_word_embeddings\": false,\n",
      "  \"torch_dtype\": \"float32\",\n",
      "  \"transformers_version\": \"4.51.3\"\n",
      "}\n",
      "\n",
      "loading weights file pytorch_model.bin from cache at C:\\Users\\mahmoud\\.cache\\huggingface\\hub\\models--microsoft--trocr-small-handwritten\\snapshots\\b4648cfa171985a6745f37ddd637e98c0da958ac\\pytorch_model.bin\n",
      "Generate config GenerationConfig {\n",
      "  \"eos_token_id\": 2\n",
      "}\n",
      "\n",
      "Instantiating DeiTModel model under default dtype torch.float32.\n",
      "Attempting to create safetensors variant\n",
      "Safetensors PR exists\n",
      "Instantiating TrOCRForCausalLM model under default dtype torch.float32.\n",
      "Generate config GenerationConfig {\n",
      "  \"bos_token_id\": 0,\n",
      "  \"decoder_start_token_id\": 2,\n",
      "  \"eos_token_id\": 2,\n",
      "  \"pad_token_id\": 1,\n",
      "  \"use_cache\": false\n",
      "}\n",
      "\n",
      "Config of the encoder: <class 'transformers.models.deit.modeling_deit.DeiTModel'> is overwritten by shared encoder config: DeiTConfig {\n",
      "  \"attention_probs_dropout_prob\": 0.0,\n",
      "  \"encoder_stride\": 16,\n",
      "  \"hidden_act\": \"gelu\",\n",
      "  \"hidden_dropout_prob\": 0.0,\n",
      "  \"hidden_size\": 384,\n",
      "  \"image_size\": 384,\n",
      "  \"initializer_range\": 0.02,\n",
      "  \"intermediate_size\": 1536,\n",
      "  \"layer_norm_eps\": 1e-12,\n",
      "  \"model_type\": \"deit\",\n",
      "  \"num_attention_heads\": 6,\n",
      "  \"num_channels\": 3,\n",
      "  \"num_hidden_layers\": 12,\n",
      "  \"patch_size\": 16,\n",
      "  \"pooler_act\": \"tanh\",\n",
      "  \"pooler_output_size\": 384,\n",
      "  \"qkv_bias\": true,\n",
      "  \"torch_dtype\": \"float32\",\n",
      "  \"transformers_version\": \"4.51.3\"\n",
      "}\n",
      "\n",
      "Config of the decoder: <class 'transformers.models.trocr.modeling_trocr.TrOCRForCausalLM'> is overwritten by shared decoder config: TrOCRConfig {\n",
      "  \"activation_dropout\": 0.0,\n",
      "  \"activation_function\": \"relu\",\n",
      "  \"add_cross_attention\": true,\n",
      "  \"attention_dropout\": 0.0,\n",
      "  \"bos_token_id\": 0,\n",
      "  \"classifier_dropout\": 0.0,\n",
      "  \"cross_attention_hidden_size\": 384,\n",
      "  \"d_model\": 256,\n",
      "  \"decoder_attention_heads\": 8,\n",
      "  \"decoder_ffn_dim\": 1024,\n",
      "  \"decoder_layerdrop\": 0.0,\n",
      "  \"decoder_layers\": 6,\n",
      "  \"decoder_start_token_id\": 2,\n",
      "  \"dropout\": 0.1,\n",
      "  \"eos_token_id\": 2,\n",
      "  \"init_std\": 0.02,\n",
      "  \"is_decoder\": true,\n",
      "  \"layernorm_embedding\": true,\n",
      "  \"max_position_embeddings\": 512,\n",
      "  \"model_type\": \"trocr\",\n",
      "  \"pad_token_id\": 1,\n",
      "  \"scale_embedding\": true,\n",
      "  \"tie_word_embeddings\": false,\n",
      "  \"torch_dtype\": \"float32\",\n",
      "  \"transformers_version\": \"4.51.3\",\n",
      "  \"use_cache\": false,\n",
      "  \"use_learned_position_embeddings\": true,\n",
      "  \"vocab_size\": 64044\n",
      "}\n",
      "\n",
      "All model checkpoint weights were used when initializing VisionEncoderDecoderModel.\n",
      "\n",
      "Some weights of VisionEncoderDecoderModel were not initialized from the model checkpoint at microsoft/trocr-small-handwritten and are newly initialized: ['encoder.pooler.dense.bias', 'encoder.pooler.dense.weight']\n",
      "You should probably TRAIN this model on a down-stream task to be able to use it for predictions and inference.\n",
      "loading configuration file generation_config.json from cache at C:\\Users\\mahmoud\\.cache\\huggingface\\hub\\models--microsoft--trocr-small-handwritten\\snapshots\\b4648cfa171985a6745f37ddd637e98c0da958ac\\generation_config.json\n",
      "Generate config GenerationConfig {\n",
      "  \"bos_token_id\": 0,\n",
      "  \"decoder_start_token_id\": 2,\n",
      "  \"eos_token_id\": 2,\n",
      "  \"pad_token_id\": 1,\n",
      "  \"use_cache\": false\n",
      "}\n",
      "\n"
     ]
    }
   ],
   "source": [
    "# Load model & processor\n",
    "#use base instead of small if bad accuracy irl\n",
    "processor = TrOCRProcessor.from_pretrained('microsoft/trocr-small-handwritten',use_fast=False)\n",
    "model = VisionEncoderDecoderModel.from_pretrained('microsoft/trocr-small-handwritten')\n"
   ]
  },
  {
   "cell_type": "code",
   "execution_count": null,
   "id": "fb97ce73-07ab-4fc4-9f51-0436b06561aa",
   "metadata": {},
   "outputs": [],
   "source": []
  },
  {
   "cell_type": "code",
   "execution_count": 131,
   "id": "d8f0f983-1922-4d78-b0d8-323d907e5ed3",
   "metadata": {},
   "outputs": [],
   "source": [
    "\n",
    "class BubbleSheetProcessor:\n",
    "    def __init__(self, image_path):\n",
    "        self.image_path = image_path\n",
    "        self.nc = None\n",
    "        self.image = None\n",
    "        self.gray = None\n",
    "        self.warped = None\n",
    "        self.cropped = None\n",
    "        self.thresh = None\n",
    "        self.bubble_contours = None\n",
    "        self.answer_matrix = None\n",
    "        self.student_id=None\n",
    "        self.bubbles_area_x, self.bubbles_area_y, self.bubbles_area_w, self.bubbles_area_h=None,None,None,None\n",
    "        self.marker_area=None\n",
    "\n",
    "    def load_image(self):\n",
    "        self.image = cv2.imread(self.image_path)\n",
    "        self.gray = cv2.cvtColor(self.image, cv2.COLOR_BGR2GRAY)\n",
    "\n",
    "    def get_id_corner_map(self):\n",
    "        aruco_dict = cv2.aruco.getPredefinedDictionary(cv2.aruco.DICT_4X4_100)\n",
    "        parameters = cv2.aruco.DetectorParameters()\n",
    "        detector = cv2.aruco.ArucoDetector(aruco_dict, parameters)\n",
    "\n",
    "        corners, ids, _ = detector.detectMarkers(self.gray)\n",
    "        if ids is None or len(ids) < 4:\n",
    "            raise ValueError(\"Not all 4 ArUco markers were detected.\")\n",
    "\n",
    "        id_corner_map = {id[0]: corner for id, corner in zip(ids, corners)}\n",
    "\n",
    "        if 48 in id_corner_map:\n",
    "            self.nc = 5\n",
    "        elif 49 in id_corner_map:\n",
    "            self.nc = 4\n",
    "        else:\n",
    "            raise ValueError(\"Required ArUco marker not found.\")\n",
    "        #give the area of a circle with diameter equals to the edge of a marker\n",
    "        marker_arr=id_corner_map[30]\n",
    "        self.marker_area=np.pi*(int(abs(marker_arr[0][1][0]-marker_arr[0][0][0]))/2)**2\n",
    "        return id_corner_map\n",
    "\n",
    "    def get_center(self, corner):\n",
    "        return corner[0].mean(axis=0)\n",
    "\n",
    "    def get_centroid(self, array):\n",
    "        return np.array(array).mean(axis=0)\n",
    "\n",
    "    def get_roi(self, id_corner_map):\n",
    "        if 48 in id_corner_map:\n",
    "            ordered_ids = [30, 10, 48, 34]  # TL, TR, BR, BL\n",
    "        else:  # 49 is guaranteed if 48 isn't\n",
    "            ordered_ids = [30, 10, 49, 34]\n",
    "\n",
    "        ordered_pts = [self.get_center(id_corner_map[id]) for id in ordered_ids]\n",
    "        return np.array(ordered_pts, dtype='float32')\n",
    "\n",
    "    def get_warped_image(self, src_pts):\n",
    "        width, height = int(self.image.shape[0] * 0.764), self.image.shape[0]\n",
    "        dst_pts = np.array([\n",
    "            [0, 0],\n",
    "            [width - 1, 0],\n",
    "            [width - 1, height - 1],\n",
    "            [0, height - 1]\n",
    "        ], dtype='float32')\n",
    "\n",
    "        M = cv2.getPerspectiveTransform(src_pts, dst_pts)\n",
    "        return cv2.warpPerspective(self.image, M, (width, height))\n",
    "\n",
    "    def get_largest_contour(self, image, drawContour=False):\n",
    "        gray = cv2.cvtColor(image, cv2.COLOR_BGR2GRAY)\n",
    "        thresh = cv2.adaptiveThreshold(\n",
    "            gray, 255, \n",
    "            cv2.ADAPTIVE_THRESH_MEAN_C, \n",
    "            cv2.THRESH_BINARY_INV, \n",
    "            25, 4\n",
    "        )\n",
    "        contours, _ = cv2.findContours(thresh, cv2.RETR_EXTERNAL, cv2.CHAIN_APPROX_NONE)\n",
    "        largest_contour = max(contours, key=cv2.contourArea)\n",
    "\n",
    "        if drawContour:\n",
    "            cv2.drawContours(image, largest_contour, -1, (0, 255, 0), 3)\n",
    "            cv2.imshow('largest contour', image)\n",
    "            cv2.waitKey(0)\n",
    "            cv2.destroyAllWindows()\n",
    "\n",
    "        return largest_contour\n",
    "    \n",
    "    def warp_paper(self):\n",
    "        id_corner_map = self.get_id_corner_map()\n",
    "        roi = self.get_roi(id_corner_map)\n",
    "        self.warped = self.get_warped_image(roi)\n",
    "\n",
    "    def preprocess_cropped(self):\n",
    "        self.bubbles_area_x, self.bubbles_area_y, self.bubbles_area_w, self.bubbles_area_h = cv2.boundingRect(self.get_largest_contour(self.warped))\n",
    "        self.cropped = self.warped[self.bubbles_area_y+10:self.bubbles_area_y+self.bubbles_area_h-10, \n",
    "                                    self.bubbles_area_x+10:self.bubbles_area_x+self.bubbles_area_w-10]\n",
    "        \n",
    "        cropped_gray = cv2.cvtColor(self.cropped, cv2.COLOR_BGR2GRAY)\n",
    "        blurred = cv2.GaussianBlur(cropped_gray, (3, 3), 0)\n",
    "\n",
    "        self.thresh = cv2.adaptiveThreshold(\n",
    "            blurred, 255, \n",
    "            cv2.ADAPTIVE_THRESH_MEAN_C, \n",
    "            cv2.THRESH_BINARY_INV, \n",
    "            25, 4\n",
    "        )\n",
    "\n",
    "    def extract_bubble_contours(self, drawContours=False):\n",
    "        contours, _ = cv2.findContours(self.thresh, cv2.RETR_EXTERNAL, cv2.CHAIN_APPROX_NONE)\n",
    "        bubble_contours = []\n",
    "\n",
    "        for c in contours:\n",
    "            area = cv2.contourArea(c)\n",
    "            x, y, w, h = cv2.boundingRect(c)\n",
    "            aspect_ratio = w / float(h)\n",
    "\n",
    "            if area > self.marker_area and 0.9 < aspect_ratio < 1.1:\n",
    "                bubble_contours.append(c)\n",
    "\n",
    "        bubble_contours.sort(key=lambda b: self.get_centroid(b)[0][1])\n",
    "\n",
    "        for i in range(10):  # 10 rows expected\n",
    "            start = i * self.nc * 3\n",
    "            end = (i + 1) * self.nc * 3\n",
    "            bubble_contours[start:end] = sorted(\n",
    "                bubble_contours[start:end],\n",
    "                key=lambda b: self.get_centroid(b)[0][0]\n",
    "            )\n",
    "\n",
    "        if drawContours:\n",
    "            output = self.cropped.copy()\n",
    "            cv2.drawContours(output, bubble_contours, -1, (0, 255, 0), 2)\n",
    "            output_resized = cv2.resize(output, (800, int(output.shape[0] * 800 / output.shape[1])))\n",
    "            cv2.imshow('Detected Bubbles', output_resized)\n",
    "            cv2.waitKey(0)\n",
    "            cv2.destroyAllWindows()\n",
    "\n",
    "        self.bubble_contours = bubble_contours\n",
    "\n",
    "    def get_filled_bubbles_matrix(self):\n",
    "        extracted = []\n",
    "\n",
    "        for c in self.bubble_contours:\n",
    "            mask = np.zeros(self.thresh.shape, dtype=\"uint8\")\n",
    "            cv2.drawContours(mask, [c], -1, 255, -1)\n",
    "            masked = cv2.bitwise_and(self.thresh, self.thresh, mask=mask)\n",
    "\n",
    "            total = cv2.countNonZero(mask)\n",
    "            filled = cv2.countNonZero(masked)\n",
    "            ratio = filled / total\n",
    "\n",
    "            extracted.append(1 if ratio > 0.5 else 0)\n",
    "\n",
    "        self.answer_matrix = np.array(extracted).reshape(-1, self.nc)\n",
    "    def detect_student_id(self,drawContours=False):\n",
    "        id_area=self.warped[0:self.bubbles_area_y, int(self.warped.shape[1]*.75):]\n",
    "        x, y, w, h = cv2.boundingRect(self.get_largest_contour(id_area))\n",
    "        \n",
    "        student_id_img=id_area[y+5:y+h-5, x+5:x+w-5]\n",
    "        \n",
    "        pixel_values = processor(images=student_id_img, return_tensors=\"pt\").pixel_values\n",
    "        # Run inference\n",
    "        generated_ids = model.generate(pixel_values,max_length=14,min_length=4,num_beams =2,early_stopping =True,repetition_penalty=.8)\n",
    "        self.student_id = processor.batch_decode(generated_ids, skip_special_tokens=True)[0]\n",
    "        if drawContours:\n",
    "            output = id_area.copy()\n",
    "            cv2.drawContours(output, self.get_largest_contour(id_area), -1, (0, 255, 0), 2)\n",
    "            output_resized = cv2.resize(output, (800, int(output.shape[0] * 800 / output.shape[1])))\n",
    "            cv2.imshow('Detected Bubbles', output_resized)\n",
    "            cv2.waitKey(0)\n",
    "            cv2.destroyAllWindows()\n",
    "\n",
    "        \n",
    "    \n",
    "    def run_pipeline(self):\n",
    "        self.load_image()\n",
    "        self.warp_paper()\n",
    "        self.preprocess_cropped()\n",
    "        self.extract_bubble_contours()\n",
    "        self.get_filled_bubbles_matrix()\n",
    "        self.detect_student_id()\n",
    "        return self.student_id, self.answer_matrix\n"
   ]
  },
  {
   "cell_type": "code",
   "execution_count": null,
   "id": "df37519f-51f3-4ddc-9087-429f861a6b49",
   "metadata": {},
   "outputs": [],
   "source": []
  },
  {
   "cell_type": "code",
   "execution_count": 137,
   "id": "123195b8-f73d-4b46-aaeb-c77ec0cdc76b",
   "metadata": {},
   "outputs": [
    {
     "name": "stdout",
     "output_type": "stream",
     "text": [
      "('01098255', array([[1, 0, 0, 1],\n",
      "       [0, 0, 0, 1],\n",
      "       [0, 0, 0, 0],\n",
      "       [0, 1, 1, 0],\n",
      "       [0, 0, 1, 0],\n",
      "       [0, 0, 0, 0],\n",
      "       [0, 1, 1, 0],\n",
      "       [0, 1, 0, 0],\n",
      "       [0, 0, 0, 0],\n",
      "       [1, 0, 0, 1],\n",
      "       [1, 0, 0, 0],\n",
      "       [0, 0, 0, 0],\n",
      "       [1, 0, 0, 1],\n",
      "       [0, 0, 0, 1],\n",
      "       [0, 0, 0, 0],\n",
      "       [0, 1, 1, 0],\n",
      "       [0, 0, 1, 0],\n",
      "       [0, 0, 0, 0],\n",
      "       [0, 1, 0, 0],\n",
      "       [0, 1, 0, 0],\n",
      "       [0, 1, 0, 0],\n",
      "       [1, 0, 0, 0],\n",
      "       [1, 0, 0, 0],\n",
      "       [1, 0, 0, 0],\n",
      "       [0, 0, 0, 1],\n",
      "       [0, 0, 0, 1],\n",
      "       [0, 0, 0, 1],\n",
      "       [0, 0, 1, 0],\n",
      "       [0, 0, 1, 0],\n",
      "       [0, 0, 1, 0]]))\n",
      "0.9106853008270264\n"
     ]
    }
   ],
   "source": [
    "import time\n",
    "s=time.time()\n",
    "sheet_processor=BubbleSheetProcessor('Downloads/s1.jpg')\n",
    "print(sheet_processor.run_pipeline())\n",
    "print(time.time()-s)"
   ]
  },
  {
   "cell_type": "code",
   "execution_count": null,
   "id": "77fd2ad6-0045-405d-b64c-63d89a38de3b",
   "metadata": {},
   "outputs": [],
   "source": []
  },
  {
   "cell_type": "code",
   "execution_count": null,
   "id": "58293b0e-e535-45db-a35a-a74dfe99945f",
   "metadata": {},
   "outputs": [],
   "source": []
  },
  {
   "cell_type": "code",
   "execution_count": 260,
   "id": "0fe4ba6c-c608-4606-b025-49af7c14c9e7",
   "metadata": {},
   "outputs": [],
   "source": [
    "def get_results(model_answer_image, *students_answers_images):\n",
    "    processor=BubbleSheetProcessor(model_answer_image)\n",
    "    _,mam=processor.run_pipeline()\n",
    "    \n",
    "    for student_answer in students_answers_images:\n",
    "        processor=BubbleSheetProcessor(student_answer)\n",
    "        student_id,sam=processor.run_pipeline()\n",
    "        sam==mam\n",
    "        print(student_id,np.all(sam==mam,axis=1).sum())\n",
    "        \n",
    "    "
   ]
  },
  {
   "cell_type": "code",
   "execution_count": 261,
   "id": "275460ce-07c7-4a88-9ce7-6c9604a19b94",
   "metadata": {},
   "outputs": [
    {
     "ename": "AttributeError",
     "evalue": "'numpy.ndarray' object has no attribute 'generate'",
     "output_type": "error",
     "traceback": [
      "\u001b[1;31m---------------------------------------------------------------------------\u001b[0m",
      "\u001b[1;31mAttributeError\u001b[0m                            Traceback (most recent call last)",
      "Cell \u001b[1;32mIn[261], line 1\u001b[0m\n\u001b[1;32m----> 1\u001b[0m get_results(\u001b[38;5;124m'\u001b[39m\u001b[38;5;124mDownloads/m.jpg\u001b[39m\u001b[38;5;124m'\u001b[39m,\u001b[38;5;124m'\u001b[39m\u001b[38;5;124mDownloads/s1.jpg\u001b[39m\u001b[38;5;124m'\u001b[39m)\n",
      "Cell \u001b[1;32mIn[260], line 3\u001b[0m, in \u001b[0;36mget_results\u001b[1;34m(model_answer_image, *students_answers_images)\u001b[0m\n\u001b[0;32m      1\u001b[0m \u001b[38;5;28;01mdef\u001b[39;00m \u001b[38;5;21mget_results\u001b[39m(model_answer_image, \u001b[38;5;241m*\u001b[39mstudents_answers_images):\n\u001b[0;32m      2\u001b[0m     processor\u001b[38;5;241m=\u001b[39mBubbleSheetProcessor(model_answer_image)\n\u001b[1;32m----> 3\u001b[0m     _,mam\u001b[38;5;241m=\u001b[39mprocessor\u001b[38;5;241m.\u001b[39mrun_pipeline()\n\u001b[0;32m      5\u001b[0m     \u001b[38;5;28;01mfor\u001b[39;00m student_answer \u001b[38;5;129;01min\u001b[39;00m students_answers_images:\n\u001b[0;32m      6\u001b[0m         processor\u001b[38;5;241m=\u001b[39mBubbleSheetProcessor(student_answer)\n",
      "Cell \u001b[1;32mIn[131], line 181\u001b[0m, in \u001b[0;36mBubbleSheetProcessor.run_pipeline\u001b[1;34m(self)\u001b[0m\n\u001b[0;32m    179\u001b[0m \u001b[38;5;28mself\u001b[39m\u001b[38;5;241m.\u001b[39mextract_bubble_contours()\n\u001b[0;32m    180\u001b[0m \u001b[38;5;28mself\u001b[39m\u001b[38;5;241m.\u001b[39mget_filled_bubbles_matrix()\n\u001b[1;32m--> 181\u001b[0m \u001b[38;5;28mself\u001b[39m\u001b[38;5;241m.\u001b[39mdetect_student_id()\n\u001b[0;32m    182\u001b[0m \u001b[38;5;28;01mreturn\u001b[39;00m \u001b[38;5;28mself\u001b[39m\u001b[38;5;241m.\u001b[39mstudent_id, \u001b[38;5;28mself\u001b[39m\u001b[38;5;241m.\u001b[39manswer_matrix\n",
      "Cell \u001b[1;32mIn[131], line 163\u001b[0m, in \u001b[0;36mBubbleSheetProcessor.detect_student_id\u001b[1;34m(self, drawContours)\u001b[0m\n\u001b[0;32m    161\u001b[0m pixel_values \u001b[38;5;241m=\u001b[39m processor(images\u001b[38;5;241m=\u001b[39mstudent_id_img, return_tensors\u001b[38;5;241m=\u001b[39m\u001b[38;5;124m\"\u001b[39m\u001b[38;5;124mpt\u001b[39m\u001b[38;5;124m\"\u001b[39m)\u001b[38;5;241m.\u001b[39mpixel_values\n\u001b[0;32m    162\u001b[0m \u001b[38;5;66;03m# Run inference\u001b[39;00m\n\u001b[1;32m--> 163\u001b[0m generated_ids \u001b[38;5;241m=\u001b[39m model\u001b[38;5;241m.\u001b[39mgenerate(pixel_values,max_length\u001b[38;5;241m=\u001b[39m\u001b[38;5;241m14\u001b[39m,min_length\u001b[38;5;241m=\u001b[39m\u001b[38;5;241m4\u001b[39m,num_beams \u001b[38;5;241m=\u001b[39m\u001b[38;5;241m2\u001b[39m,early_stopping \u001b[38;5;241m=\u001b[39m\u001b[38;5;28;01mTrue\u001b[39;00m,repetition_penalty\u001b[38;5;241m=\u001b[39m\u001b[38;5;241m.8\u001b[39m)\n\u001b[0;32m    164\u001b[0m \u001b[38;5;28mself\u001b[39m\u001b[38;5;241m.\u001b[39mstudent_id \u001b[38;5;241m=\u001b[39m processor\u001b[38;5;241m.\u001b[39mbatch_decode(generated_ids, skip_special_tokens\u001b[38;5;241m=\u001b[39m\u001b[38;5;28;01mTrue\u001b[39;00m)[\u001b[38;5;241m0\u001b[39m]\n\u001b[0;32m    165\u001b[0m \u001b[38;5;28;01mif\u001b[39;00m drawContours:\n",
      "\u001b[1;31mAttributeError\u001b[0m: 'numpy.ndarray' object has no attribute 'generate'"
     ]
    }
   ],
   "source": [
    "get_results('Downloads/m.jpg','Downloads/s1.jpg')"
   ]
  },
  {
   "cell_type": "code",
   "execution_count": null,
   "id": "202597d1-05e4-404e-ae6d-2ac6cd5c0616",
   "metadata": {},
   "outputs": [],
   "source": []
  },
  {
   "cell_type": "code",
   "execution_count": null,
   "id": "d29b107f-c2d9-497d-bf09-3880303a6d77",
   "metadata": {},
   "outputs": [],
   "source": []
  },
  {
   "cell_type": "code",
   "execution_count": 631,
   "id": "05b195d5-7e47-4b7e-8d4d-7a2f1d303070",
   "metadata": {},
   "outputs": [],
   "source": []
  },
  {
   "cell_type": "code",
   "execution_count": null,
   "id": "b736c9d4-4d8b-43b1-b4d3-d0d538f77bb7",
   "metadata": {},
   "outputs": [],
   "source": []
  },
  {
   "cell_type": "code",
   "execution_count": null,
   "id": "2feddd60-a276-4d14-b749-bca407b44d8c",
   "metadata": {},
   "outputs": [],
   "source": []
  },
  {
   "cell_type": "code",
   "execution_count": null,
   "id": "803d28be-bfa5-4192-afbc-a3f173c2863d",
   "metadata": {},
   "outputs": [],
   "source": []
  },
  {
   "cell_type": "code",
   "execution_count": null,
   "id": "cfa5e78a-0dde-4006-bef6-5225b9781039",
   "metadata": {},
   "outputs": [],
   "source": []
  },
  {
   "cell_type": "code",
   "execution_count": null,
   "id": "62663673-564c-4202-b845-aab0dc83f8cf",
   "metadata": {},
   "outputs": [],
   "source": []
  },
  {
   "cell_type": "code",
   "execution_count": null,
   "id": "154af775-5139-4a01-a196-dac2073bb29f",
   "metadata": {},
   "outputs": [],
   "source": []
  },
  {
   "cell_type": "code",
   "execution_count": null,
   "id": "b3f9b9d3-f421-4171-b0e9-dae7bb9cab78",
   "metadata": {},
   "outputs": [],
   "source": []
  },
  {
   "cell_type": "code",
   "execution_count": null,
   "id": "b3c4a2ce-187e-4ee3-b3b9-d2fb0ac6d273",
   "metadata": {},
   "outputs": [],
   "source": []
  },
  {
   "cell_type": "code",
   "execution_count": null,
   "id": "ef598741-8e5a-4bf2-8918-6ffa5a6ee388",
   "metadata": {},
   "outputs": [],
   "source": []
  },
  {
   "cell_type": "code",
   "execution_count": null,
   "id": "b472d5d8-633e-4a65-8b35-c31aad27e7fd",
   "metadata": {},
   "outputs": [],
   "source": []
  },
  {
   "cell_type": "code",
   "execution_count": 210,
   "id": "fb317fc1-6cd3-4f7b-8844-c19aad0961e1",
   "metadata": {},
   "outputs": [],
   "source": [
    "import numpy as np\n",
    "import matplotlib.pyplot as plt\n",
    "import plotly.express as px\n",
    "import plotly.graph_objects as go\n",
    "from sklearn.decomposition import PCA\n",
    "import pandas as pd\n",
    "\n",
    "num_students = 57\n",
    "num_questions = 60\n",
    "num_cheaters = 3\n",
    "num_choices=4\n",
    "\n",
    "# Create model answer (the \"correct\" one)\n",
    "model = np.zeros((num_questions, num_choices), dtype=int)\n",
    "for i in range(num_questions):\n",
    "    model[i, i % num_choices] = 1\n",
    "\n",
    "# Helper function to generate a believable answer\n",
    "def generate_student_answer(model, accuracy=0.6):\n",
    "    answer = np.zeros_like(model)\n",
    "    for i in range(model.shape[0]):\n",
    "        if np.random.rand() < accuracy:\n",
    "            correct_choice = np.argmax(model[i])\n",
    "        else:\n",
    "            # Wrong answer, choose randomly excluding the correct one\n",
    "            choices = list(set(range(num_choices)) - {np.argmax(model[i])})\n",
    "            correct_choice = np.random.choice(choices)\n",
    "        answer[i, correct_choice] = 1\n",
    "    return answer\n",
    "\n",
    "\n",
    "# Generate student accuracies using normal distribution with appropriate parameters\n",
    "student_accuracies = np.clip(np.random.normal(0.6, 0.1, size=num_students), 0.3, 0.9)\n",
    "\n",
    "# Generate regular student answers\n",
    "students = [generate_student_answer(model, accuracy=acc) for acc in student_accuracies]\n",
    "\n",
    "# Create cheater base with a higher mean accuracy\n",
    "cheater_accuracy = np.clip(np.random.normal(0.75, 0.05), 0.65, 0.85)\n",
    "cheater_base = generate_student_answer(model, accuracy=cheater_accuracy)\n",
    "\n",
    "# Create 3 cheaters from the base with slight variations\n",
    "cheaters = []\n",
    "for i in range(num_cheaters):\n",
    "    cheater = cheater_base.copy()\n",
    "    # Introduce a small chance of changing a few answers for realism\n",
    "    for j in range(num_questions):\n",
    "        if np.random.rand() < 0.1:  # 10% chance to change\n",
    "            cheater[j] = np.zeros(num_choices)\n",
    "            cheater[j, np.random.randint(0, num_choices)] = 1\n",
    "    cheaters.append(cheater)\n",
    "\n",
    "\n",
    "# Combine all students and cheaters\n",
    "students.extend(cheaters)\n",
    "\n",
    "\n",
    "scores = np.array([np.sum(np.all(student == model, axis=1)) for student in students])\n",
    "\n",
    "\n"
   ]
  },
  {
   "cell_type": "code",
   "execution_count": null,
   "id": "551e7d1e-8d03-473c-a928-822f61859dee",
   "metadata": {},
   "outputs": [],
   "source": []
  },
  {
   "cell_type": "code",
   "execution_count": null,
   "id": "20aa13f6-72c4-4518-ad2c-96efd483f364",
   "metadata": {},
   "outputs": [],
   "source": []
  },
  {
   "cell_type": "code",
   "execution_count": null,
   "id": "31760445-6ebb-4af5-89ab-cf73be29d5a1",
   "metadata": {},
   "outputs": [],
   "source": []
  },
  {
   "cell_type": "code",
   "execution_count": 211,
   "id": "935b2f9f-b5c2-4160-b28e-9cf416b4e8d2",
   "metadata": {},
   "outputs": [],
   "source": [
    "from sklearn.cluster import DBSCAN\n",
    "X = np.array([student.flatten() for student in students])\n",
    "clustering = DBSCAN(eps=.1, min_samples=2,metric='hamming').fit(X)\n",
    "\n",
    "labels = clustering.labels_\n"
   ]
  },
  {
   "cell_type": "code",
   "execution_count": null,
   "id": "e9a96c18-5f26-41fd-9152-8aaf5a3b2bfa",
   "metadata": {},
   "outputs": [],
   "source": []
  },
  {
   "cell_type": "code",
   "execution_count": 212,
   "id": "f5b4ded6-4075-4d9a-bfa8-cf929883eb9b",
   "metadata": {},
   "outputs": [],
   "source": [
    "colors=[]\n",
    "for L in labels:\n",
    "    if L==0:\n",
    "        colors.append('red')\n",
    "    elif L==1:\n",
    "        colors.append('blue')\n",
    "    else:\n",
    "        colors.append('gray')\n",
    "    "
   ]
  },
  {
   "cell_type": "code",
   "execution_count": 213,
   "id": "776b02ca-4767-4d4b-b293-719ccb5022ef",
   "metadata": {},
   "outputs": [
    {
     "data": {
      "application/vnd.plotly.v1+json": {
       "config": {
        "plotlyServerURL": "https://plot.ly"
       },
       "data": [
        {
         "customdata": [
          [
           37
          ],
          [
           31
          ],
          [
           38
          ],
          [
           33
          ],
          [
           38
          ],
          [
           47
          ],
          [
           37
          ],
          [
           45
          ],
          [
           40
          ],
          [
           38
          ],
          [
           43
          ],
          [
           40
          ],
          [
           27
          ],
          [
           36
          ],
          [
           31
          ],
          [
           25
          ],
          [
           24
          ],
          [
           32
          ],
          [
           42
          ],
          [
           33
          ],
          [
           41
          ],
          [
           31
          ],
          [
           29
          ],
          [
           42
          ],
          [
           38
          ],
          [
           33
          ],
          [
           45
          ],
          [
           23
          ],
          [
           42
          ],
          [
           38
          ],
          [
           47
          ],
          [
           35
          ],
          [
           55
          ],
          [
           43
          ],
          [
           25
          ],
          [
           28
          ],
          [
           36
          ],
          [
           26
          ],
          [
           33
          ],
          [
           29
          ],
          [
           46
          ],
          [
           45
          ],
          [
           34
          ],
          [
           37
          ],
          [
           27
          ],
          [
           24
          ],
          [
           24
          ],
          [
           50
          ],
          [
           34
          ],
          [
           38
          ],
          [
           21
          ],
          [
           33
          ],
          [
           26
          ],
          [
           35
          ],
          [
           38
          ],
          [
           31
          ],
          [
           35
          ],
          [
           43
          ],
          [
           45
          ],
          [
           42
          ]
         ],
         "hovertemplate": "<b>%{text}</b><br>Score: %{customdata[0]}<br>PC1: %{x:.2f}<br>PC2: %{y:.2f}<br>PC3: %{z:.2f}",
         "marker": {
          "color": [
           "gray",
           "gray",
           "gray",
           "gray",
           "gray",
           "gray",
           "gray",
           "gray",
           "gray",
           "gray",
           "gray",
           "gray",
           "gray",
           "gray",
           "gray",
           "gray",
           "gray",
           "gray",
           "gray",
           "gray",
           "gray",
           "gray",
           "gray",
           "gray",
           "gray",
           "gray",
           "gray",
           "gray",
           "gray",
           "gray",
           "gray",
           "gray",
           "gray",
           "gray",
           "gray",
           "gray",
           "gray",
           "gray",
           "gray",
           "gray",
           "gray",
           "gray",
           "gray",
           "gray",
           "gray",
           "gray",
           "gray",
           "gray",
           "gray",
           "gray",
           "gray",
           "gray",
           "gray",
           "gray",
           "gray",
           "gray",
           "gray",
           "red",
           "red",
           "red"
          ],
          "opacity": 0.7,
          "size": 8
         },
         "mode": "markers",
         "text": [
          "Student 1",
          "Student 2",
          "Student 3",
          "Student 4",
          "Student 5",
          "Student 6",
          "Student 7",
          "Student 8",
          "Student 9",
          "Student 10",
          "Student 11",
          "Student 12",
          "Student 13",
          "Student 14",
          "Student 15",
          "Student 16",
          "Student 17",
          "Student 18",
          "Student 19",
          "Student 20",
          "Student 21",
          "Student 22",
          "Student 23",
          "Student 24",
          "Student 25",
          "Student 26",
          "Student 27",
          "Student 28",
          "Student 29",
          "Student 30",
          "Student 31",
          "Student 32",
          "Student 33",
          "Student 34",
          "Student 35",
          "Student 36",
          "Student 37",
          "Student 38",
          "Student 39",
          "Student 40",
          "Student 41",
          "Student 42",
          "Student 43",
          "Student 44",
          "Student 45",
          "Student 46",
          "Student 47",
          "Student 48",
          "Student 49",
          "Student 50",
          "Student 51",
          "Student 52",
          "Student 53",
          "Student 54",
          "Student 55",
          "Student 56",
          "Student 57",
          "Student 58",
          "Student 59",
          "Student 60"
         ],
         "type": "scatter3d",
         "x": [
          -0.7406392240660344,
          -0.2635450325081896,
          -0.08431340589072504,
          -0.37613453941085573,
          1.6894968801649013,
          2.227586860892681,
          0.23975710499106992,
          1.7199984603181366,
          -0.04040059795465897,
          1.2609547036156714,
          1.611865392234472,
          0.6866804523267064,
          -1.6807787882638652,
          0.4260849402437718,
          -0.2050218980222298,
          -2.1391122936776714,
          -1.4334397586276189,
          -0.7442740669469925,
          0.59533440429373,
          0.8738594294774747,
          1.2421271686534876,
          -0.19126614218812515,
          -1.06288216878237,
          0.41370262733875846,
          0.7184519291504441,
          -0.6303552188164026,
          1.3851066252476418,
          -2.4247614380797957,
          0.9810815009539694,
          0.7086484576482179,
          1.4326616233645983,
          -0.41369750993522436,
          2.1969673102347165,
          1.7189276320600684,
          -2.7400734894694456,
          -1.210499592075823,
          -0.30980713587010256,
          -2.0731201226929854,
          -0.9025095203933141,
          -1.5667003888694189,
          1.8934499230414044,
          1.6331344294661534,
          -0.5133986983054792,
          0.29945349031675816,
          -1.6074255475312111,
          -2.3204484079794057,
          -2.011948858511153,
          1.7444384312022478,
          -0.46905444457142254,
          0.35984871416336944,
          -3.208955367641274,
          0.08493208779957899,
          -2.0405971937178045,
          0.9692772213644982,
          0.11448757302449762,
          -1.0859935299868564,
          -0.6267594765839682,
          2.0463936742005373,
          2.2216789857867796,
          1.6215258237940549
         ],
         "y": [
          -0.16650372864560675,
          -0.6492546111426147,
          0.23456134673397863,
          -1.4636823369831737,
          1.1921341270996917,
          1.0222973243103735,
          0.25611992045793536,
          0.015150995880108827,
          0.4460885273026307,
          0.41744897715471857,
          -0.5370425808239784,
          -1.111519837295935,
          -0.7729011613509642,
          -0.5640782167644868,
          -0.4223930712184855,
          1.1492946255659067,
          -0.49451715030944726,
          -2.247115141315048,
          0.575847104906794,
          -2.042718757159924,
          0.14233554785763267,
          0.29290511397612073,
          0.7054646647343311,
          -0.3721005214958418,
          -0.6388356680516162,
          -1.2244511555045041,
          -0.5559971662780964,
          -1.4046891632444474,
          -0.3696228131405984,
          -1.5781296693933156,
          -0.4381657184770275,
          -0.21074543206242066,
          -0.27188970262969336,
          0.16226941628953173,
          2.412606399715227,
          0.1347384362887624,
          0.7222352139333665,
          -0.44295709014214274,
          -1.0611032352695295,
          0.6533779893668802,
          -1.5429726094264435,
          -0.5590998680044795,
          0.22564251850968006,
          -0.26053664007742705,
          -0.523364520498533,
          1.7262749526697927,
          1.2540985919677217,
          0.049782131619137686,
          -0.6595087106032967,
          -0.4463843185321121,
          1.3030984945697033,
          0.9058073023417701,
          -0.9064887650359776,
          -0.9503526405459214,
          -2.522805499613678,
          0.818087158944487,
          1.6599393540478935,
          3.1850792125561513,
          2.738858849232325,
          3.0103832030041153
         ],
         "z": [
          -0.6261346150723773,
          -0.40475312209345116,
          1.2022894091516607,
          0.35970268799534666,
          1.9272131687391787,
          0.31085664932362317,
          1.2656160628952087,
          0.6538915688580632,
          -0.0014234995214156387,
          1.8795039982897062,
          -0.7531874032249637,
          -0.5640128547836073,
          -1.5851103723451685,
          0.46358634658034775,
          -2.4268365704897303,
          0.8856332425930895,
          2.380035803254192,
          1.155186443596936,
          -0.8974121400645141,
          -1.1085979103787629,
          -0.26954687946550626,
          -0.9553607622210527,
          0.07140389517559236,
          -1.2405912819503884,
          -0.18744790125967625,
          -0.011546633404362013,
          -0.6466414367679126,
          -0.2800174037078848,
          1.7667212551023819,
          0.9649790627330076,
          0.1551765557333975,
          0.3169595577431177,
          -0.11662126853010994,
          0.3102909508708041,
          1.4840072429702416,
          -3.003195361082702,
          0.09854411373497636,
          -1.4955675684199072,
          -0.4408243921992238,
          -0.12543543576594374,
          1.430389760071662,
          0.39010355486458087,
          3.0364120163721986,
          -1.0315268536516435,
          -0.42222357591926624,
          0.46228521490186403,
          1.1660549820931037,
          0.6693979656108986,
          1.1028405209690988,
          -0.3414538963834685,
          1.5445259708623884,
          -1.6689321873070282,
          -1.7244206332671888,
          -0.33902348920703207,
          0.24897765638920114,
          -1.5630748614619152,
          -0.22633735501378802,
          -0.8194360042142798,
          -1.1958792092580528,
          -1.2300127790435542
         ]
        }
       ],
       "layout": {
        "autosize": true,
        "font": {
         "size": 12
        },
        "margin": {
         "b": 0,
         "l": 0,
         "r": 0,
         "t": 40
        },
        "scene": {
         "aspectmode": "auto",
         "aspectratio": {
          "x": 0.9499933035625149,
          "y": 0.9974082838183775,
          "z": 1.0553742293428563
         },
         "camera": {
          "center": {
           "x": 0,
           "y": 0,
           "z": 0
          },
          "eye": {
           "x": -1.5639941252449758,
           "y": 1.2956622181938944,
           "z": 0.7501211852388131
          },
          "projection": {
           "type": "perspective"
          },
          "up": {
           "x": 0,
           "y": 0,
           "z": 1
          }
         },
         "xaxis": {
          "title": {
           "text": "PC1 (5.66%)"
          },
          "type": "linear"
         },
         "yaxis": {
          "title": {
           "text": "PC2 (4.04%)"
          },
          "type": "linear"
         },
         "zaxis": {
          "title": {
           "text": "PC3 (3.95%)"
          },
          "type": "linear"
         }
        },
        "showlegend": false,
        "template": {
         "data": {
          "bar": [
           {
            "error_x": {
             "color": "#2a3f5f"
            },
            "error_y": {
             "color": "#2a3f5f"
            },
            "marker": {
             "line": {
              "color": "#E5ECF6",
              "width": 0.5
             },
             "pattern": {
              "fillmode": "overlay",
              "size": 10,
              "solidity": 0.2
             }
            },
            "type": "bar"
           }
          ],
          "barpolar": [
           {
            "marker": {
             "line": {
              "color": "#E5ECF6",
              "width": 0.5
             },
             "pattern": {
              "fillmode": "overlay",
              "size": 10,
              "solidity": 0.2
             }
            },
            "type": "barpolar"
           }
          ],
          "carpet": [
           {
            "aaxis": {
             "endlinecolor": "#2a3f5f",
             "gridcolor": "white",
             "linecolor": "white",
             "minorgridcolor": "white",
             "startlinecolor": "#2a3f5f"
            },
            "baxis": {
             "endlinecolor": "#2a3f5f",
             "gridcolor": "white",
             "linecolor": "white",
             "minorgridcolor": "white",
             "startlinecolor": "#2a3f5f"
            },
            "type": "carpet"
           }
          ],
          "choropleth": [
           {
            "colorbar": {
             "outlinewidth": 0,
             "ticks": ""
            },
            "type": "choropleth"
           }
          ],
          "contour": [
           {
            "colorbar": {
             "outlinewidth": 0,
             "ticks": ""
            },
            "colorscale": [
             [
              0,
              "#0d0887"
             ],
             [
              0.1111111111111111,
              "#46039f"
             ],
             [
              0.2222222222222222,
              "#7201a8"
             ],
             [
              0.3333333333333333,
              "#9c179e"
             ],
             [
              0.4444444444444444,
              "#bd3786"
             ],
             [
              0.5555555555555556,
              "#d8576b"
             ],
             [
              0.6666666666666666,
              "#ed7953"
             ],
             [
              0.7777777777777778,
              "#fb9f3a"
             ],
             [
              0.8888888888888888,
              "#fdca26"
             ],
             [
              1,
              "#f0f921"
             ]
            ],
            "type": "contour"
           }
          ],
          "contourcarpet": [
           {
            "colorbar": {
             "outlinewidth": 0,
             "ticks": ""
            },
            "type": "contourcarpet"
           }
          ],
          "heatmap": [
           {
            "colorbar": {
             "outlinewidth": 0,
             "ticks": ""
            },
            "colorscale": [
             [
              0,
              "#0d0887"
             ],
             [
              0.1111111111111111,
              "#46039f"
             ],
             [
              0.2222222222222222,
              "#7201a8"
             ],
             [
              0.3333333333333333,
              "#9c179e"
             ],
             [
              0.4444444444444444,
              "#bd3786"
             ],
             [
              0.5555555555555556,
              "#d8576b"
             ],
             [
              0.6666666666666666,
              "#ed7953"
             ],
             [
              0.7777777777777778,
              "#fb9f3a"
             ],
             [
              0.8888888888888888,
              "#fdca26"
             ],
             [
              1,
              "#f0f921"
             ]
            ],
            "type": "heatmap"
           }
          ],
          "heatmapgl": [
           {
            "colorbar": {
             "outlinewidth": 0,
             "ticks": ""
            },
            "colorscale": [
             [
              0,
              "#0d0887"
             ],
             [
              0.1111111111111111,
              "#46039f"
             ],
             [
              0.2222222222222222,
              "#7201a8"
             ],
             [
              0.3333333333333333,
              "#9c179e"
             ],
             [
              0.4444444444444444,
              "#bd3786"
             ],
             [
              0.5555555555555556,
              "#d8576b"
             ],
             [
              0.6666666666666666,
              "#ed7953"
             ],
             [
              0.7777777777777778,
              "#fb9f3a"
             ],
             [
              0.8888888888888888,
              "#fdca26"
             ],
             [
              1,
              "#f0f921"
             ]
            ],
            "type": "heatmapgl"
           }
          ],
          "histogram": [
           {
            "marker": {
             "pattern": {
              "fillmode": "overlay",
              "size": 10,
              "solidity": 0.2
             }
            },
            "type": "histogram"
           }
          ],
          "histogram2d": [
           {
            "colorbar": {
             "outlinewidth": 0,
             "ticks": ""
            },
            "colorscale": [
             [
              0,
              "#0d0887"
             ],
             [
              0.1111111111111111,
              "#46039f"
             ],
             [
              0.2222222222222222,
              "#7201a8"
             ],
             [
              0.3333333333333333,
              "#9c179e"
             ],
             [
              0.4444444444444444,
              "#bd3786"
             ],
             [
              0.5555555555555556,
              "#d8576b"
             ],
             [
              0.6666666666666666,
              "#ed7953"
             ],
             [
              0.7777777777777778,
              "#fb9f3a"
             ],
             [
              0.8888888888888888,
              "#fdca26"
             ],
             [
              1,
              "#f0f921"
             ]
            ],
            "type": "histogram2d"
           }
          ],
          "histogram2dcontour": [
           {
            "colorbar": {
             "outlinewidth": 0,
             "ticks": ""
            },
            "colorscale": [
             [
              0,
              "#0d0887"
             ],
             [
              0.1111111111111111,
              "#46039f"
             ],
             [
              0.2222222222222222,
              "#7201a8"
             ],
             [
              0.3333333333333333,
              "#9c179e"
             ],
             [
              0.4444444444444444,
              "#bd3786"
             ],
             [
              0.5555555555555556,
              "#d8576b"
             ],
             [
              0.6666666666666666,
              "#ed7953"
             ],
             [
              0.7777777777777778,
              "#fb9f3a"
             ],
             [
              0.8888888888888888,
              "#fdca26"
             ],
             [
              1,
              "#f0f921"
             ]
            ],
            "type": "histogram2dcontour"
           }
          ],
          "mesh3d": [
           {
            "colorbar": {
             "outlinewidth": 0,
             "ticks": ""
            },
            "type": "mesh3d"
           }
          ],
          "parcoords": [
           {
            "line": {
             "colorbar": {
              "outlinewidth": 0,
              "ticks": ""
             }
            },
            "type": "parcoords"
           }
          ],
          "pie": [
           {
            "automargin": true,
            "type": "pie"
           }
          ],
          "scatter": [
           {
            "fillpattern": {
             "fillmode": "overlay",
             "size": 10,
             "solidity": 0.2
            },
            "type": "scatter"
           }
          ],
          "scatter3d": [
           {
            "line": {
             "colorbar": {
              "outlinewidth": 0,
              "ticks": ""
             }
            },
            "marker": {
             "colorbar": {
              "outlinewidth": 0,
              "ticks": ""
             }
            },
            "type": "scatter3d"
           }
          ],
          "scattercarpet": [
           {
            "marker": {
             "colorbar": {
              "outlinewidth": 0,
              "ticks": ""
             }
            },
            "type": "scattercarpet"
           }
          ],
          "scattergeo": [
           {
            "marker": {
             "colorbar": {
              "outlinewidth": 0,
              "ticks": ""
             }
            },
            "type": "scattergeo"
           }
          ],
          "scattergl": [
           {
            "marker": {
             "colorbar": {
              "outlinewidth": 0,
              "ticks": ""
             }
            },
            "type": "scattergl"
           }
          ],
          "scattermapbox": [
           {
            "marker": {
             "colorbar": {
              "outlinewidth": 0,
              "ticks": ""
             }
            },
            "type": "scattermapbox"
           }
          ],
          "scatterpolar": [
           {
            "marker": {
             "colorbar": {
              "outlinewidth": 0,
              "ticks": ""
             }
            },
            "type": "scatterpolar"
           }
          ],
          "scatterpolargl": [
           {
            "marker": {
             "colorbar": {
              "outlinewidth": 0,
              "ticks": ""
             }
            },
            "type": "scatterpolargl"
           }
          ],
          "scatterternary": [
           {
            "marker": {
             "colorbar": {
              "outlinewidth": 0,
              "ticks": ""
             }
            },
            "type": "scatterternary"
           }
          ],
          "surface": [
           {
            "colorbar": {
             "outlinewidth": 0,
             "ticks": ""
            },
            "colorscale": [
             [
              0,
              "#0d0887"
             ],
             [
              0.1111111111111111,
              "#46039f"
             ],
             [
              0.2222222222222222,
              "#7201a8"
             ],
             [
              0.3333333333333333,
              "#9c179e"
             ],
             [
              0.4444444444444444,
              "#bd3786"
             ],
             [
              0.5555555555555556,
              "#d8576b"
             ],
             [
              0.6666666666666666,
              "#ed7953"
             ],
             [
              0.7777777777777778,
              "#fb9f3a"
             ],
             [
              0.8888888888888888,
              "#fdca26"
             ],
             [
              1,
              "#f0f921"
             ]
            ],
            "type": "surface"
           }
          ],
          "table": [
           {
            "cells": {
             "fill": {
              "color": "#EBF0F8"
             },
             "line": {
              "color": "white"
             }
            },
            "header": {
             "fill": {
              "color": "#C8D4E3"
             },
             "line": {
              "color": "white"
             }
            },
            "type": "table"
           }
          ]
         },
         "layout": {
          "annotationdefaults": {
           "arrowcolor": "#2a3f5f",
           "arrowhead": 0,
           "arrowwidth": 1
          },
          "autotypenumbers": "strict",
          "coloraxis": {
           "colorbar": {
            "outlinewidth": 0,
            "ticks": ""
           }
          },
          "colorscale": {
           "diverging": [
            [
             0,
             "#8e0152"
            ],
            [
             0.1,
             "#c51b7d"
            ],
            [
             0.2,
             "#de77ae"
            ],
            [
             0.3,
             "#f1b6da"
            ],
            [
             0.4,
             "#fde0ef"
            ],
            [
             0.5,
             "#f7f7f7"
            ],
            [
             0.6,
             "#e6f5d0"
            ],
            [
             0.7,
             "#b8e186"
            ],
            [
             0.8,
             "#7fbc41"
            ],
            [
             0.9,
             "#4d9221"
            ],
            [
             1,
             "#276419"
            ]
           ],
           "sequential": [
            [
             0,
             "#0d0887"
            ],
            [
             0.1111111111111111,
             "#46039f"
            ],
            [
             0.2222222222222222,
             "#7201a8"
            ],
            [
             0.3333333333333333,
             "#9c179e"
            ],
            [
             0.4444444444444444,
             "#bd3786"
            ],
            [
             0.5555555555555556,
             "#d8576b"
            ],
            [
             0.6666666666666666,
             "#ed7953"
            ],
            [
             0.7777777777777778,
             "#fb9f3a"
            ],
            [
             0.8888888888888888,
             "#fdca26"
            ],
            [
             1,
             "#f0f921"
            ]
           ],
           "sequentialminus": [
            [
             0,
             "#0d0887"
            ],
            [
             0.1111111111111111,
             "#46039f"
            ],
            [
             0.2222222222222222,
             "#7201a8"
            ],
            [
             0.3333333333333333,
             "#9c179e"
            ],
            [
             0.4444444444444444,
             "#bd3786"
            ],
            [
             0.5555555555555556,
             "#d8576b"
            ],
            [
             0.6666666666666666,
             "#ed7953"
            ],
            [
             0.7777777777777778,
             "#fb9f3a"
            ],
            [
             0.8888888888888888,
             "#fdca26"
            ],
            [
             1,
             "#f0f921"
            ]
           ]
          },
          "colorway": [
           "#636efa",
           "#EF553B",
           "#00cc96",
           "#ab63fa",
           "#FFA15A",
           "#19d3f3",
           "#FF6692",
           "#B6E880",
           "#FF97FF",
           "#FECB52"
          ],
          "font": {
           "color": "#2a3f5f"
          },
          "geo": {
           "bgcolor": "white",
           "lakecolor": "white",
           "landcolor": "#E5ECF6",
           "showlakes": true,
           "showland": true,
           "subunitcolor": "white"
          },
          "hoverlabel": {
           "align": "left"
          },
          "hovermode": "closest",
          "mapbox": {
           "style": "light"
          },
          "paper_bgcolor": "white",
          "plot_bgcolor": "#E5ECF6",
          "polar": {
           "angularaxis": {
            "gridcolor": "white",
            "linecolor": "white",
            "ticks": ""
           },
           "bgcolor": "#E5ECF6",
           "radialaxis": {
            "gridcolor": "white",
            "linecolor": "white",
            "ticks": ""
           }
          },
          "scene": {
           "xaxis": {
            "backgroundcolor": "#E5ECF6",
            "gridcolor": "white",
            "gridwidth": 2,
            "linecolor": "white",
            "showbackground": true,
            "ticks": "",
            "zerolinecolor": "white"
           },
           "yaxis": {
            "backgroundcolor": "#E5ECF6",
            "gridcolor": "white",
            "gridwidth": 2,
            "linecolor": "white",
            "showbackground": true,
            "ticks": "",
            "zerolinecolor": "white"
           },
           "zaxis": {
            "backgroundcolor": "#E5ECF6",
            "gridcolor": "white",
            "gridwidth": 2,
            "linecolor": "white",
            "showbackground": true,
            "ticks": "",
            "zerolinecolor": "white"
           }
          },
          "shapedefaults": {
           "line": {
            "color": "#2a3f5f"
           }
          },
          "ternary": {
           "aaxis": {
            "gridcolor": "white",
            "linecolor": "white",
            "ticks": ""
           },
           "baxis": {
            "gridcolor": "white",
            "linecolor": "white",
            "ticks": ""
           },
           "bgcolor": "#E5ECF6",
           "caxis": {
            "gridcolor": "white",
            "linecolor": "white",
            "ticks": ""
           }
          },
          "title": {
           "x": 0.05
          },
          "xaxis": {
           "automargin": true,
           "gridcolor": "white",
           "linecolor": "white",
           "ticks": "",
           "title": {
            "standoff": 15
           },
           "zerolinecolor": "white",
           "zerolinewidth": 2
          },
          "yaxis": {
           "automargin": true,
           "gridcolor": "white",
           "linecolor": "white",
           "ticks": "",
           "title": {
            "standoff": 15
           },
           "zerolinecolor": "white",
           "zerolinewidth": 2
          }
         }
        },
        "title": {
         "text": "3D PCA of Student Answers (Total Variance: 13.65%)"
        }
       }
      },
      "image/png": "[encoded data removed]",
      "text/html": [
       "<div>                            <div id=\"79bd6251-b494-4b18-90bd-251dc2035eff\" class=\"plotly-graph-div\" style=\"height:525px; width:100%;\"></div>            <script type=\"text/javascript\">                require([\"plotly\"], function(Plotly) {                    window.PLOTLYENV=window.PLOTLYENV || {};                                    if (document.getElementById(\"79bd6251-b494-4b18-90bd-251dc2035eff\")) {                    Plotly.newPlot(                        \"79bd6251-b494-4b18-90bd-251dc2035eff\",                        [{\"customdata\":[[37],[31],[38],[33],[38],[47],[37],[45],[40],[38],[43],[40],[27],[36],[31],[25],[24],[32],[42],[33],[41],[31],[29],[42],[38],[33],[45],[23],[42],[38],[47],[35],[55],[43],[25],[28],[36],[26],[33],[29],[46],[45],[34],[37],[27],[24],[24],[50],[34],[38],[21],[33],[26],[35],[38],[31],[35],[43],[45],[42]],\"hovertemplate\":\"\\u003cb\\u003e%{text}\\u003c\\u002fb\\u003e\\u003cbr\\u003eScore: %{customdata[0]}\\u003cbr\\u003ePC1: %{x:.2f}\\u003cbr\\u003ePC2: %{y:.2f}\\u003cbr\\u003ePC3: %{z:.2f}\",\"marker\":{\"color\":[\"gray\",\"gray\",\"gray\",\"gray\",\"gray\",\"gray\",\"gray\",\"gray\",\"gray\",\"gray\",\"gray\",\"gray\",\"gray\",\"gray\",\"gray\",\"gray\",\"gray\",\"gray\",\"gray\",\"gray\",\"gray\",\"gray\",\"gray\",\"gray\",\"gray\",\"gray\",\"gray\",\"gray\",\"gray\",\"gray\",\"gray\",\"gray\",\"gray\",\"gray\",\"gray\",\"gray\",\"gray\",\"gray\",\"gray\",\"gray\",\"gray\",\"gray\",\"gray\",\"gray\",\"gray\",\"gray\",\"gray\",\"gray\",\"gray\",\"gray\",\"gray\",\"gray\",\"gray\",\"gray\",\"gray\",\"gray\",\"gray\",\"red\",\"red\",\"red\"],\"opacity\":0.7,\"size\":8},\"mode\":\"markers\",\"text\":[\"Student 1\",\"Student 2\",\"Student 3\",\"Student 4\",\"Student 5\",\"Student 6\",\"Student 7\",\"Student 8\",\"Student 9\",\"Student 10\",\"Student 11\",\"Student 12\",\"Student 13\",\"Student 14\",\"Student 15\",\"Student 16\",\"Student 17\",\"Student 18\",\"Student 19\",\"Student 20\",\"Student 21\",\"Student 22\",\"Student 23\",\"Student 24\",\"Student 25\",\"Student 26\",\"Student 27\",\"Student 28\",\"Student 29\",\"Student 30\",\"Student 31\",\"Student 32\",\"Student 33\",\"Student 34\",\"Student 35\",\"Student 36\",\"Student 37\",\"Student 38\",\"Student 39\",\"Student 40\",\"Student 41\",\"Student 42\",\"Student 43\",\"Student 44\",\"Student 45\",\"Student 46\",\"Student 47\",\"Student 48\",\"Student 49\",\"Student 50\",\"Student 51\",\"Student 52\",\"Student 53\",\"Student 54\",\"Student 55\",\"Student 56\",\"Student 57\",\"Student 58\",\"Student 59\",\"Student 60\"],\"x\":[-0.7406392240660344,-0.2635450325081896,-0.08431340589072504,-0.37613453941085573,1.6894968801649013,2.227586860892681,0.23975710499106992,1.7199984603181366,-0.04040059795465897,1.2609547036156714,1.611865392234472,0.6866804523267064,-1.6807787882638652,0.4260849402437718,-0.2050218980222298,-2.1391122936776714,-1.4334397586276189,-0.7442740669469925,0.59533440429373,0.8738594294774747,1.2421271686534876,-0.19126614218812515,-1.06288216878237,0.41370262733875846,0.7184519291504441,-0.6303552188164026,1.3851066252476418,-2.4247614380797957,0.9810815009539694,0.7086484576482179,1.4326616233645983,-0.41369750993522436,2.1969673102347165,1.7189276320600684,-2.7400734894694456,-1.210499592075823,-0.30980713587010256,-2.0731201226929854,-0.9025095203933141,-1.5667003888694189,1.8934499230414044,1.6331344294661534,-0.5133986983054792,0.29945349031675816,-1.6074255475312111,-2.3204484079794057,-2.011948858511153,1.7444384312022478,-0.46905444457142254,0.35984871416336944,-3.208955367641274,0.08493208779957899,-2.0405971937178045,0.9692772213644982,0.11448757302449762,-1.0859935299868564,-0.6267594765839682,2.0463936742005373,2.2216789857867796,1.6215258237940549],\"y\":[-0.16650372864560675,-0.6492546111426147,0.23456134673397863,-1.4636823369831737,1.1921341270996917,1.0222973243103735,0.25611992045793536,0.015150995880108827,0.4460885273026307,0.41744897715471857,-0.5370425808239784,-1.111519837295935,-0.7729011613509642,-0.5640782167644868,-0.4223930712184855,1.1492946255659067,-0.49451715030944726,-2.247115141315048,0.575847104906794,-2.042718757159924,0.14233554785763267,0.29290511397612073,0.7054646647343311,-0.3721005214958418,-0.6388356680516162,-1.2244511555045041,-0.5559971662780964,-1.4046891632444474,-0.3696228131405984,-1.5781296693933156,-0.4381657184770275,-0.21074543206242066,-0.27188970262969336,0.16226941628953173,2.412606399715227,0.1347384362887624,0.7222352139333665,-0.44295709014214274,-1.0611032352695295,0.6533779893668802,-1.5429726094264435,-0.5590998680044795,0.22564251850968006,-0.26053664007742705,-0.523364520498533,1.7262749526697927,1.2540985919677217,0.049782131619137686,-0.6595087106032967,-0.4463843185321121,1.3030984945697033,0.9058073023417701,-0.9064887650359776,-0.9503526405459214,-2.522805499613678,0.818087158944487,1.6599393540478935,3.1850792125561513,2.738858849232325,3.0103832030041153],\"z\":[-0.6261346150723773,-0.40475312209345116,1.2022894091516607,0.35970268799534666,1.9272131687391787,0.31085664932362317,1.2656160628952087,0.6538915688580632,-0.0014234995214156387,1.8795039982897062,-0.7531874032249637,-0.5640128547836073,-1.5851103723451685,0.46358634658034775,-2.4268365704897303,0.8856332425930895,2.380035803254192,1.155186443596936,-0.8974121400645141,-1.1085979103787629,-0.26954687946550626,-0.9553607622210527,0.07140389517559236,-1.2405912819503884,-0.18744790125967625,-0.011546633404362013,-0.6466414367679126,-0.2800174037078848,1.7667212551023819,0.9649790627330076,0.1551765557333975,0.3169595577431177,-0.11662126853010994,0.3102909508708041,1.4840072429702416,-3.003195361082702,0.09854411373497636,-1.4955675684199072,-0.4408243921992238,-0.12543543576594374,1.430389760071662,0.39010355486458087,3.0364120163721986,-1.0315268536516435,-0.42222357591926624,0.46228521490186403,1.1660549820931037,0.6693979656108986,1.1028405209690988,-0.3414538963834685,1.5445259708623884,-1.6689321873070282,-1.7244206332671888,-0.33902348920703207,0.24897765638920114,-1.5630748614619152,-0.22633735501378802,-0.8194360042142798,-1.1958792092580528,-1.2300127790435542],\"type\":\"scatter3d\"}],                        {\"template\":{\"data\":{\"histogram2dcontour\":[{\"type\":\"histogram2dcontour\",\"colorbar\":{\"outlinewidth\":0,\"ticks\":\"\"},\"colorscale\":[[0.0,\"#0d0887\"],[0.1111111111111111,\"#46039f\"],[0.2222222222222222,\"#7201a8\"],[0.3333333333333333,\"#9c179e\"],[0.4444444444444444,\"#bd3786\"],[0.5555555555555556,\"#d8576b\"],[0.6666666666666666,\"#ed7953\"],[0.7777777777777778,\"#fb9f3a\"],[0.8888888888888888,\"#fdca26\"],[1.0,\"#f0f921\"]]}],\"choropleth\":[{\"type\":\"choropleth\",\"colorbar\":{\"outlinewidth\":0,\"ticks\":\"\"}}],\"histogram2d\":[{\"type\":\"histogram2d\",\"colorbar\":{\"outlinewidth\":0,\"ticks\":\"\"},\"colorscale\":[[0.0,\"#0d0887\"],[0.1111111111111111,\"#46039f\"],[0.2222222222222222,\"#7201a8\"],[0.3333333333333333,\"#9c179e\"],[0.4444444444444444,\"#bd3786\"],[0.5555555555555556,\"#d8576b\"],[0.6666666666666666,\"#ed7953\"],[0.7777777777777778,\"#fb9f3a\"],[0.8888888888888888,\"#fdca26\"],[1.0,\"#f0f921\"]]}],\"heatmap\":[{\"type\":\"heatmap\",\"colorbar\":{\"outlinewidth\":0,\"ticks\":\"\"},\"colorscale\":[[0.0,\"#0d0887\"],[0.1111111111111111,\"#46039f\"],[0.2222222222222222,\"#7201a8\"],[0.3333333333333333,\"#9c179e\"],[0.4444444444444444,\"#bd3786\"],[0.5555555555555556,\"#d8576b\"],[0.6666666666666666,\"#ed7953\"],[0.7777777777777778,\"#fb9f3a\"],[0.8888888888888888,\"#fdca26\"],[1.0,\"#f0f921\"]]}],\"heatmapgl\":[{\"type\":\"heatmapgl\",\"colorbar\":{\"outlinewidth\":0,\"ticks\":\"\"},\"colorscale\":[[0.0,\"#0d0887\"],[0.1111111111111111,\"#46039f\"],[0.2222222222222222,\"#7201a8\"],[0.3333333333333333,\"#9c179e\"],[0.4444444444444444,\"#bd3786\"],[0.5555555555555556,\"#d8576b\"],[0.6666666666666666,\"#ed7953\"],[0.7777777777777778,\"#fb9f3a\"],[0.8888888888888888,\"#fdca26\"],[1.0,\"#f0f921\"]]}],\"contourcarpet\":[{\"type\":\"contourcarpet\",\"colorbar\":{\"outlinewidth\":0,\"ticks\":\"\"}}],\"contour\":[{\"type\":\"contour\",\"colorbar\":{\"outlinewidth\":0,\"ticks\":\"\"},\"colorscale\":[[0.0,\"#0d0887\"],[0.1111111111111111,\"#46039f\"],[0.2222222222222222,\"#7201a8\"],[0.3333333333333333,\"#9c179e\"],[0.4444444444444444,\"#bd3786\"],[0.5555555555555556,\"#d8576b\"],[0.6666666666666666,\"#ed7953\"],[0.7777777777777778,\"#fb9f3a\"],[0.8888888888888888,\"#fdca26\"],[1.0,\"#f0f921\"]]}],\"surface\":[{\"type\":\"surface\",\"colorbar\":{\"outlinewidth\":0,\"ticks\":\"\"},\"colorscale\":[[0.0,\"#0d0887\"],[0.1111111111111111,\"#46039f\"],[0.2222222222222222,\"#7201a8\"],[0.3333333333333333,\"#9c179e\"],[0.4444444444444444,\"#bd3786\"],[0.5555555555555556,\"#d8576b\"],[0.6666666666666666,\"#ed7953\"],[0.7777777777777778,\"#fb9f3a\"],[0.8888888888888888,\"#fdca26\"],[1.0,\"#f0f921\"]]}],\"mesh3d\":[{\"type\":\"mesh3d\",\"colorbar\":{\"outlinewidth\":0,\"ticks\":\"\"}}],\"scatter\":[{\"fillpattern\":{\"fillmode\":\"overlay\",\"size\":10,\"solidity\":0.2},\"type\":\"scatter\"}],\"parcoords\":[{\"type\":\"parcoords\",\"line\":{\"colorbar\":{\"outlinewidth\":0,\"ticks\":\"\"}}}],\"scatterpolargl\":[{\"type\":\"scatterpolargl\",\"marker\":{\"colorbar\":{\"outlinewidth\":0,\"ticks\":\"\"}}}],\"bar\":[{\"error_x\":{\"color\":\"#2a3f5f\"},\"error_y\":{\"color\":\"#2a3f5f\"},\"marker\":{\"line\":{\"color\":\"#E5ECF6\",\"width\":0.5},\"pattern\":{\"fillmode\":\"overlay\",\"size\":10,\"solidity\":0.2}},\"type\":\"bar\"}],\"scattergeo\":[{\"type\":\"scattergeo\",\"marker\":{\"colorbar\":{\"outlinewidth\":0,\"ticks\":\"\"}}}],\"scatterpolar\":[{\"type\":\"scatterpolar\",\"marker\":{\"colorbar\":{\"outlinewidth\":0,\"ticks\":\"\"}}}],\"histogram\":[{\"marker\":{\"pattern\":{\"fillmode\":\"overlay\",\"size\":10,\"solidity\":0.2}},\"type\":\"histogram\"}],\"scattergl\":[{\"type\":\"scattergl\",\"marker\":{\"colorbar\":{\"outlinewidth\":0,\"ticks\":\"\"}}}],\"scatter3d\":[{\"type\":\"scatter3d\",\"line\":{\"colorbar\":{\"outlinewidth\":0,\"ticks\":\"\"}},\"marker\":{\"colorbar\":{\"outlinewidth\":0,\"ticks\":\"\"}}}],\"scattermapbox\":[{\"type\":\"scattermapbox\",\"marker\":{\"colorbar\":{\"outlinewidth\":0,\"ticks\":\"\"}}}],\"scatterternary\":[{\"type\":\"scatterternary\",\"marker\":{\"colorbar\":{\"outlinewidth\":0,\"ticks\":\"\"}}}],\"scattercarpet\":[{\"type\":\"scattercarpet\",\"marker\":{\"colorbar\":{\"outlinewidth\":0,\"ticks\":\"\"}}}],\"carpet\":[{\"aaxis\":{\"endlinecolor\":\"#2a3f5f\",\"gridcolor\":\"white\",\"linecolor\":\"white\",\"minorgridcolor\":\"white\",\"startlinecolor\":\"#2a3f5f\"},\"baxis\":{\"endlinecolor\":\"#2a3f5f\",\"gridcolor\":\"white\",\"linecolor\":\"white\",\"minorgridcolor\":\"white\",\"startlinecolor\":\"#2a3f5f\"},\"type\":\"carpet\"}],\"table\":[{\"cells\":{\"fill\":{\"color\":\"#EBF0F8\"},\"line\":{\"color\":\"white\"}},\"header\":{\"fill\":{\"color\":\"#C8D4E3\"},\"line\":{\"color\":\"white\"}},\"type\":\"table\"}],\"barpolar\":[{\"marker\":{\"line\":{\"color\":\"#E5ECF6\",\"width\":0.5},\"pattern\":{\"fillmode\":\"overlay\",\"size\":10,\"solidity\":0.2}},\"type\":\"barpolar\"}],\"pie\":[{\"automargin\":true,\"type\":\"pie\"}]},\"layout\":{\"autotypenumbers\":\"strict\",\"colorway\":[\"#636efa\",\"#EF553B\",\"#00cc96\",\"#ab63fa\",\"#FFA15A\",\"#19d3f3\",\"#FF6692\",\"#B6E880\",\"#FF97FF\",\"#FECB52\"],\"font\":{\"color\":\"#2a3f5f\"},\"hovermode\":\"closest\",\"hoverlabel\":{\"align\":\"left\"},\"paper_bgcolor\":\"white\",\"plot_bgcolor\":\"#E5ECF6\",\"polar\":{\"bgcolor\":\"#E5ECF6\",\"angularaxis\":{\"gridcolor\":\"white\",\"linecolor\":\"white\",\"ticks\":\"\"},\"radialaxis\":{\"gridcolor\":\"white\",\"linecolor\":\"white\",\"ticks\":\"\"}},\"ternary\":{\"bgcolor\":\"#E5ECF6\",\"aaxis\":{\"gridcolor\":\"white\",\"linecolor\":\"white\",\"ticks\":\"\"},\"baxis\":{\"gridcolor\":\"white\",\"linecolor\":\"white\",\"ticks\":\"\"},\"caxis\":{\"gridcolor\":\"white\",\"linecolor\":\"white\",\"ticks\":\"\"}},\"coloraxis\":{\"colorbar\":{\"outlinewidth\":0,\"ticks\":\"\"}},\"colorscale\":{\"sequential\":[[0.0,\"#0d0887\"],[0.1111111111111111,\"#46039f\"],[0.2222222222222222,\"#7201a8\"],[0.3333333333333333,\"#9c179e\"],[0.4444444444444444,\"#bd3786\"],[0.5555555555555556,\"#d8576b\"],[0.6666666666666666,\"#ed7953\"],[0.7777777777777778,\"#fb9f3a\"],[0.8888888888888888,\"#fdca26\"],[1.0,\"#f0f921\"]],\"sequentialminus\":[[0.0,\"#0d0887\"],[0.1111111111111111,\"#46039f\"],[0.2222222222222222,\"#7201a8\"],[0.3333333333333333,\"#9c179e\"],[0.4444444444444444,\"#bd3786\"],[0.5555555555555556,\"#d8576b\"],[0.6666666666666666,\"#ed7953\"],[0.7777777777777778,\"#fb9f3a\"],[0.8888888888888888,\"#fdca26\"],[1.0,\"#f0f921\"]],\"diverging\":[[0,\"#8e0152\"],[0.1,\"#c51b7d\"],[0.2,\"#de77ae\"],[0.3,\"#f1b6da\"],[0.4,\"#fde0ef\"],[0.5,\"#f7f7f7\"],[0.6,\"#e6f5d0\"],[0.7,\"#b8e186\"],[0.8,\"#7fbc41\"],[0.9,\"#4d9221\"],[1,\"#276419\"]]},\"xaxis\":{\"gridcolor\":\"white\",\"linecolor\":\"white\",\"ticks\":\"\",\"title\":{\"standoff\":15},\"zerolinecolor\":\"white\",\"automargin\":true,\"zerolinewidth\":2},\"yaxis\":{\"gridcolor\":\"white\",\"linecolor\":\"white\",\"ticks\":\"\",\"title\":{\"standoff\":15},\"zerolinecolor\":\"white\",\"automargin\":true,\"zerolinewidth\":2},\"scene\":{\"xaxis\":{\"backgroundcolor\":\"#E5ECF6\",\"gridcolor\":\"white\",\"linecolor\":\"white\",\"showbackground\":true,\"ticks\":\"\",\"zerolinecolor\":\"white\",\"gridwidth\":2},\"yaxis\":{\"backgroundcolor\":\"#E5ECF6\",\"gridcolor\":\"white\",\"linecolor\":\"white\",\"showbackground\":true,\"ticks\":\"\",\"zerolinecolor\":\"white\",\"gridwidth\":2},\"zaxis\":{\"backgroundcolor\":\"#E5ECF6\",\"gridcolor\":\"white\",\"linecolor\":\"white\",\"showbackground\":true,\"ticks\":\"\",\"zerolinecolor\":\"white\",\"gridwidth\":2}},\"shapedefaults\":{\"line\":{\"color\":\"#2a3f5f\"}},\"annotationdefaults\":{\"arrowcolor\":\"#2a3f5f\",\"arrowhead\":0,\"arrowwidth\":1},\"geo\":{\"bgcolor\":\"white\",\"landcolor\":\"#E5ECF6\",\"subunitcolor\":\"white\",\"showland\":true,\"showlakes\":true,\"lakecolor\":\"white\"},\"title\":{\"x\":0.05},\"mapbox\":{\"style\":\"light\"}}},\"font\":{\"size\":12},\"margin\":{\"l\":0,\"r\":0,\"b\":0,\"t\":40},\"title\":{\"text\":\"3D PCA of Student Answers (Total Variance: 13.65%)\"},\"scene\":{\"xaxis\":{\"title\":{\"text\":\"PC1 (5.66%)\"}},\"yaxis\":{\"title\":{\"text\":\"PC2 (4.04%)\"}},\"zaxis\":{\"title\":{\"text\":\"PC3 (3.95%)\"}}},\"showlegend\":false},                        {\"responsive\": true}                    ).then(function(){\n",
       "                            \n",
       "var gd = document.getElementById('79bd6251-b494-4b18-90bd-251dc2035eff');\n",
       "var x = new MutationObserver(function (mutations, observer) {{\n",
       "        var display = window.getComputedStyle(gd).display;\n",
       "        if (!display || display === 'none') {{\n",
       "            console.log([gd, 'removed!']);\n",
       "            Plotly.purge(gd);\n",
       "            observer.disconnect();\n",
       "        }}\n",
       "}});\n",
       "\n",
       "// Listen for the removal of the full notebook cells\n",
       "var notebookContainer = gd.closest('#notebook-container');\n",
       "if (notebookContainer) {{\n",
       "    x.observe(notebookContainer, {childList: true});\n",
       "}}\n",
       "\n",
       "// Listen for the clearing of the current output cell\n",
       "var outputEl = gd.closest('.output');\n",
       "if (outputEl) {{\n",
       "    x.observe(outputEl, {childList: true});\n",
       "}}\n",
       "\n",
       "                        })                };                });            </script>        </div>"
      ]
     },
     "metadata": {},
     "output_type": "display_data"
    },
    {
     "name": "stdout",
     "output_type": "stream",
     "text": [
      "Variance explained by each principal component:\n",
      "PC1: 5.66%\n",
      "PC2: 4.04%\n",
      "PC3: 3.95%\n",
      "Total variance explained by first 3 PCs: 13.65%\n"
     ]
    }
   ],
   "source": [
    "# Apply PCA\n",
    "pca = PCA(n_components=3)\n",
    "X_pca = pca.fit_transform(X)\n",
    "\n",
    "# Calculate the explained variance\n",
    "explained_variance = pca.explained_variance_ratio_\n",
    "total_variance = sum(explained_variance)\n",
    "\n",
    "student_ids = [f\"Student {i+1}\" for i in range(num_students + num_cheaters)]\n",
    "\n",
    "\n",
    "# Convert to DataFrame for plotly\n",
    "df = pd.DataFrame({\n",
    "    'PC1': X_pca[:, 0],\n",
    "    'PC2': X_pca[:, 1],\n",
    "    'PC3': X_pca[:, 2],\n",
    "    'Student_ID': student_ids,\n",
    "    'Score': scores,\n",
    "    'Color': colors\n",
    "})\n",
    "\n",
    "# Create interactive 3D plot with Plotly\n",
    "fig = go.Figure()\n",
    "\n",
    "# Add all students as scatter points\n",
    "fig.add_trace(go.Scatter3d(\n",
    "    x=df['PC1'],\n",
    "    y=df['PC2'],\n",
    "    z=df['PC3'],\n",
    "    mode='markers',\n",
    "    marker=dict(\n",
    "        size=8,\n",
    "        color=df['Color'],\n",
    "        opacity=0.7\n",
    "    ),\n",
    "    text=df['Student_ID'],\n",
    "    hovertemplate=\n",
    "    '<b>%{text}</b><br>' +\n",
    "    'Score: %{customdata[0]}<br>' +\n",
    "    'PC1: %{x:.2f}<br>' +\n",
    "    'PC2: %{y:.2f}<br>' +\n",
    "    'PC3: %{z:.2f}',\n",
    "    customdata=np.stack((df['Score'],), axis=-1)\n",
    "))\n",
    "\n",
    "# Update the layout\n",
    "fig.update_layout(\n",
    "    title=f'3D PCA of Student Answers (Total Variance: {total_variance:.2%})',\n",
    "    scene=dict(\n",
    "        xaxis_title=f'PC1 ({explained_variance[0]:.2%})',\n",
    "        yaxis_title=f'PC2 ({explained_variance[1]:.2%})',\n",
    "        zaxis_title=f'PC3 ({explained_variance[2]:.2%})',\n",
    "    ),\n",
    "    font=dict(size=12),\n",
    "    margin=dict(l=0, r=0, b=0, t=40),\n",
    "    showlegend=False\n",
    ")\n",
    "\n",
    "# Show the figure\n",
    "fig.show()\n",
    "\n",
    "# Print variance explained\n",
    "print(\"Variance explained by each principal component:\")\n",
    "for i, var in enumerate(explained_variance):\n",
    "    print(f\"PC{i+1}: {var:.2%}\")\n",
    "print(f\"Total variance explained by first 3 PCs: {total_variance:.2%}\")\n",
    "\n",
    "# For environments that can't display interactive plotly plots,\n",
    "# save as HTML file that can be opened in any browser\n",
    "#fig.write_html(\"pca_visualization_3d.html\")\n"
   ]
  },
  {
   "cell_type": "code",
   "execution_count": null,
   "id": "b6ddfd3b-e8a4-4c67-9111-fcfec85c3d96",
   "metadata": {},
   "outputs": [],
   "source": []
  },
  {
   "cell_type": "code",
   "execution_count": null,
   "id": "986be7e7-12e3-4411-b5db-1d1baec9a498",
   "metadata": {},
   "outputs": [],
   "source": []
  },
  {
   "cell_type": "code",
   "execution_count": null,
   "id": "e42fea72-b2fa-49fa-91cb-924c576e0bde",
   "metadata": {},
   "outputs": [],
   "source": [
    "\n"
   ]
  },
  {
   "cell_type": "code",
   "execution_count": null,
   "id": "3343b3e6-869d-4490-a988-212b0c3dc947",
   "metadata": {},
   "outputs": [],
   "source": []
  },
  {
   "cell_type": "code",
   "execution_count": null,
   "id": "3929157f-9088-4aa5-b390-edd55137de86",
   "metadata": {},
   "outputs": [],
   "source": []
  },
  {
   "cell_type": "code",
   "execution_count": null,
   "id": "c180a853-d85e-4179-b0d3-4bfb6a46e8ce",
   "metadata": {},
   "outputs": [],
   "source": [
    "\n"
   ]
  },
  {
   "cell_type": "code",
   "execution_count": null,
   "id": "cadf20fa-58d4-4898-b0bd-69bc0007b323",
   "metadata": {},
   "outputs": [],
   "source": []
  },
  {
   "cell_type": "code",
   "execution_count": null,
   "id": "3fc17741-7008-44b7-88ea-7a2597c94cc5",
   "metadata": {},
   "outputs": [],
   "source": []
  },
  {
   "cell_type": "code",
   "execution_count": 23,
   "id": "2a64f72d-5fbd-4757-9db0-e43f7fd96631",
   "metadata": {},
   "outputs": [
    {
     "data": {
      "image/png": "[encoded data removed]",
      "text/plain": [
       "<Figure size 1000x800 with 1 Axes>"
      ]
     },
     "metadata": {},
     "output_type": "display_data"
    }
   ],
   "source": [
    "import numpy as np\n",
    "import networkx as nx\n",
    "import matplotlib.pyplot as plt\n",
    "from sklearn.metrics import pairwise_distances\n",
    "import community as community_louvain\n",
    "\n",
    "# Step 1: Flatten student answers\n",
    "X = np.array([student.flatten() for student in students])\n",
    "\n",
    "# Step 2: Compute pairwise Hamming similarity\n",
    "D = pairwise_distances(X, metric='hamming')\n",
    "S = 1 - D\n",
    "\n",
    "# Step 3: Create the graph with a threshold\n",
    "threshold = 0.9\n",
    "G = nx.Graph()\n",
    "for i in range(len(X)):\n",
    "    G.add_node(i)\n",
    "    for j in range(i + 1, len(X)):\n",
    "        if S[i, j] > threshold:\n",
    "            G.add_edge(i, j, weight=S[i, j])\n",
    "\n",
    "# Step 4: Louvain community detection\n",
    "partition = community_louvain.best_partition(G)\n",
    "\n",
    "# Step 5: Simple, clean visualization with edge labels\n",
    "plt.figure(figsize=(10, 8), facecolor='white')\n",
    "\n",
    "# Use a simpler layout\n",
    "pos = nx.spring_layout(G, k=0.4, seed=42)\n",
    "\n",
    "# Draw edges - simple gray\n",
    "nx.draw_networkx_edges(G, pos, \n",
    "                      width=1.5,\n",
    "                      alpha=0.6,\n",
    "                      edge_color='gray')\n",
    "\n",
    "# Draw nodes - simple coloring by community\n",
    "colors = [partition.get(node) for node in G.nodes()]\n",
    "nx.draw_networkx_nodes(G, pos, \n",
    "                      node_color=colors, \n",
    "                      cmap=plt.cm.tab10,\n",
    "                      node_size=300, \n",
    "                      edgecolors='black',\n",
    "                      linewidths=0.8)\n",
    "\n",
    "# Add node labels\n",
    "nx.draw_networkx_labels(G, pos, \n",
    "                       font_size=9, \n",
    "                       font_color='black',\n",
    "                       font_weight='bold')\n",
    "\n",
    "# Add edge labels showing the similarity values (rounded to 2 decimal places)\n",
    "edge_labels = {(u, v): f'{G[u][v][\"weight\"]:.2f}' for u, v in G.edges()}\n",
    "nx.draw_networkx_edge_labels(G, pos, \n",
    "                            edge_labels=edge_labels,\n",
    "                            font_size=8,\n",
    "                            font_color='darkblue',\n",
    "                            bbox=dict(facecolor='white', edgecolor='none', alpha=0.7, pad=0.3))\n",
    "\n",
    "plt.title(\"Student Similarity Graph\", fontsize=14)\n",
    "plt.axis('off')\n",
    "plt.tight_layout()\n",
    "plt.show()\n",
    "fig.update_layout(dragmode='pan')  # Default mode, but users can switch to 'select' or 'lasso'\n",
    "fig.write_html(\"interactive_student_network.html\", full_html=True)"
   ]
  },
  {
   "cell_type": "code",
   "execution_count": null,
   "id": "4d6fde48-309d-49af-aa3f-68ee6f9bc999",
   "metadata": {},
   "outputs": [],
   "source": []
  },
  {
   "cell_type": "code",
   "execution_count": null,
   "id": "296a7791-a750-4db6-847e-be3d5fc9c13a",
   "metadata": {},
   "outputs": [],
   "source": []
  },
  {
   "cell_type": "code",
   "execution_count": null,
   "id": "91ffb7ea-1db5-47a4-afab-30fec39c2753",
   "metadata": {},
   "outputs": [],
   "source": []
  },
  {
   "cell_type": "code",
   "execution_count": null,
   "id": "5bf5d92a-9e8f-4e5b-956a-20690b36aadf",
   "metadata": {},
   "outputs": [],
   "source": []
  },
  {
   "cell_type": "code",
   "execution_count": null,
   "id": "38f7784d-9214-4109-b9d4-230ca9333ce4",
   "metadata": {},
   "outputs": [],
   "source": []
  },
  {
   "cell_type": "code",
   "execution_count": null,
   "id": "a9adebb8-cbf0-407b-8616-6708699663b5",
   "metadata": {},
   "outputs": [],
   "source": []
  },
  {
   "cell_type": "code",
   "execution_count": 21,
   "id": "31b9496b-e24f-443d-8584-ee79012eb588",
   "metadata": {},
   "outputs": [],
   "source": [
    "\n"
   ]
  },
  {
   "cell_type": "code",
   "execution_count": null,
   "id": "d9af828e-76ab-4254-a0ae-350b1c4bb846",
   "metadata": {},
   "outputs": [],
   "source": []
  },
  {
   "cell_type": "code",
   "execution_count": 20,
   "id": "2125faea-fd57-40e5-97a4-58dee0cf04d8",
   "metadata": {},
   "outputs": [
    {
     "name": "stdout",
     "output_type": "stream",
     "text": [
      "Network data saved to student_network.json\n"
     ]
    }
   ],
   "source": [
    "import numpy as np\n",
    "import networkx as nx\n",
    "import json\n",
    "from sklearn.metrics import pairwise_distances\n",
    "import community as community_louvain\n",
    "\n",
    "# Assuming 'students' is defined somewhere in your code\n",
    "# Step 1: Flatten student answers\n",
    "X = np.array([student.flatten() for student in students])\n",
    "\n",
    "# Step 2: Compute pairwise Hamming similarity\n",
    "D = pairwise_distances(X, metric='hamming')\n",
    "S = 1 - D\n",
    "\n",
    "# Step 3: Create the graph with a threshold\n",
    "threshold = 0.9\n",
    "G = nx.Graph()\n",
    "for i in range(len(X)):\n",
    "    G.add_node(i)\n",
    "    for j in range(i + 1, len(X)):\n",
    "        if S[i, j] > threshold:\n",
    "            G.add_edge(i, j, weight=S[i, j])\n",
    "\n",
    "# Step 4: Louvain community detection\n",
    "partition = community_louvain.best_partition(\n",
    "    G,\n",
    "    weight='weight',\n",
    "    resolution=1.0,\n",
    "    randomize=False,\n",
    "    random_state=42\n",
    ")\n",
    "# Prepare data for vis.js\n",
    "network_data = {\n",
    "    \"nodes\": [],\n",
    "    \"edges\": []\n",
    "}\n",
    "\n",
    "# Add nodes with community information\n",
    "for node in G.nodes():\n",
    "    network_data[\"nodes\"].append({\n",
    "        \"id\": node,\n",
    "        \"label\": str(node),\n",
    "        \"group\": partition[node],\n",
    "        \"title\": f\"Student {node} (Community {partition[node]})\"\n",
    "    })\n",
    "\n",
    "# Add edges with weights\n",
    "for edge in G.edges():\n",
    "    network_data[\"edges\"].append({\n",
    "        \"from\": edge[0],\n",
    "        \"to\": edge[1],\n",
    "        \"value\": G[edge[0]][edge[1]][\"weight\"],\n",
    "        \"title\": f\"Similarity: {G[edge[0]][edge[1]]['weight']:.2f}\"\n",
    "    })\n",
    "\n",
    "# Save to JSON file\n",
    "with open('student_network.json', 'w') as f:\n",
    "    json.dump(network_data, f, indent=2)\n",
    "\n",
    "print(\"Network data saved to student_network.json\")"
   ]
  },
  {
   "cell_type": "code",
   "execution_count": null,
   "id": "9782c8eb-713a-45b6-b0a5-bb20402c68d2",
   "metadata": {},
   "outputs": [],
   "source": []
  },
  {
   "cell_type": "code",
   "execution_count": null,
   "id": "70ee98e9-c3a5-4b8e-a478-3d3f6a1d856f",
   "metadata": {},
   "outputs": [],
   "source": []
  },
  {
   "cell_type": "code",
   "execution_count": null,
   "id": "e8d01d8e-f6c8-4b38-9464-b4245bd582d6",
   "metadata": {},
   "outputs": [],
   "source": []
  },
  {
   "cell_type": "code",
   "execution_count": null,
   "id": "8a10eb78-8caa-4af4-8d0e-4c09c5548621",
   "metadata": {},
   "outputs": [],
   "source": []
  },
  {
   "cell_type": "code",
   "execution_count": null,
   "id": "52fbea3d-cd8e-4e8e-8358-55629d734677",
   "metadata": {},
   "outputs": [],
   "source": []
  },
  {
   "cell_type": "code",
   "execution_count": null,
   "id": "e354e394-0214-485f-aa87-887292acda29",
   "metadata": {},
   "outputs": [],
   "source": []
  },
  {
   "cell_type": "code",
   "execution_count": null,
   "id": "e9bb22cd-6125-4547-aa7d-249eff0ebde8",
   "metadata": {},
   "outputs": [],
   "source": []
  },
  {
   "cell_type": "code",
   "execution_count": null,
   "id": "4babc223-4871-409d-9012-f76ddc6bac96",
   "metadata": {},
   "outputs": [],
   "source": []
  },
  {
   "cell_type": "code",
   "execution_count": null,
   "id": "6e89a336-0ad4-42e8-a437-d676f121888c",
   "metadata": {},
   "outputs": [],
   "source": []
  }
 ],
 "metadata": {
  "kernelspec": {
   "display_name": "Python 3 (ipykernel)",
   "language": "python",
   "name": "python3"
  },
  "language_info": {
   "codemirror_mode": {
    "name": "ipython",
    "version": 3
   },
   "file_extension": ".py",
   "mimetype": "text/x-python",
   "name": "python",
   "nbconvert_exporter": "python",
   "pygments_lexer": "ipython3",
   "version": "3.12.7"
  }
 },
 "nbformat": 4,
 "nbformat_minor": 5
}
